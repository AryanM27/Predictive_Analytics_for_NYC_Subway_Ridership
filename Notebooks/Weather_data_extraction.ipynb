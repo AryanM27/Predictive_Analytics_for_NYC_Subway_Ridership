{
  "nbformat": 4,
  "nbformat_minor": 0,
  "metadata": {
    "colab": {
      "provenance": []
    },
    "kernelspec": {
      "name": "python3",
      "display_name": "Python 3"
    },
    "language_info": {
      "name": "python"
    }
  },
  "cells": [
    {
      "cell_type": "code",
      "execution_count": 1,
      "metadata": {
        "colab": {
          "base_uri": "https://localhost:8080/"
        },
        "id": "EY_2Zz_-JaAW",
        "outputId": "96ac8908-591d-4603-ffab-93025a8d62dc"
      },
      "outputs": [
        {
          "output_type": "stream",
          "name": "stdout",
          "text": [
            "Requirement already satisfied: requests in /usr/local/lib/python3.11/dist-packages (2.32.3)\n",
            "Requirement already satisfied: pandas in /usr/local/lib/python3.11/dist-packages (2.2.2)\n",
            "Requirement already satisfied: charset-normalizer<4,>=2 in /usr/local/lib/python3.11/dist-packages (from requests) (3.4.1)\n",
            "Requirement already satisfied: idna<4,>=2.5 in /usr/local/lib/python3.11/dist-packages (from requests) (3.10)\n",
            "Requirement already satisfied: urllib3<3,>=1.21.1 in /usr/local/lib/python3.11/dist-packages (from requests) (2.4.0)\n",
            "Requirement already satisfied: certifi>=2017.4.17 in /usr/local/lib/python3.11/dist-packages (from requests) (2025.1.31)\n",
            "Requirement already satisfied: numpy>=1.23.2 in /usr/local/lib/python3.11/dist-packages (from pandas) (2.0.2)\n",
            "Requirement already satisfied: python-dateutil>=2.8.2 in /usr/local/lib/python3.11/dist-packages (from pandas) (2.9.0.post0)\n",
            "Requirement already satisfied: pytz>=2020.1 in /usr/local/lib/python3.11/dist-packages (from pandas) (2025.2)\n",
            "Requirement already satisfied: tzdata>=2022.7 in /usr/local/lib/python3.11/dist-packages (from pandas) (2025.2)\n",
            "Requirement already satisfied: six>=1.5 in /usr/local/lib/python3.11/dist-packages (from python-dateutil>=2.8.2->pandas) (1.17.0)\n"
          ]
        }
      ],
      "source": [
        "# Install packages (requests, pandas) - optional\n",
        "!pip install requests pandas\n"
      ]
    },
    {
      "cell_type": "code",
      "source": [
        "import requests\n",
        "import pandas as pd\n",
        "\n",
        "# List of your coordinates (longitude, latitude)\n",
        "stations = [\n",
        "    (-73.95773, 40.60867),\n",
        "    (-73.97767, 40.68436),\n",
        "    (-73.91158, 40.699814),\n",
        "    (-73.97689, 40.68446),\n",
        "    (-73.97881, 40.683666),\n",
        "    (-73.95687, 40.717304),\n",
        "    (-73.932945, 40.668896),\n",
        "    (-73.987495, 40.75731),\n",
        "    (-73.987495, 40.75529),\n",
        "    (-73.98795, 40.749565),\n",
        "    (-73.986755, 40.75731),\n",
        "    (-73.986755, 40.75529),\n",
        "    (-73.976845, 40.751778),\n",
        "    (-73.99339, 40.75229),\n",
        "    (-73.98782, 40.749718),\n",
        "    (-73.99106, 40.750374),\n",
        "    (-73.98974, 40.75731),\n",
        "    (-73.986755, 40.754673),\n",
        "    (-73.891335, 40.74685),\n",
        "    (-73.80111, 40.70215)\n",
        "]\n",
        "\n",
        "# Open-Meteo API base\n",
        "base_url = \"https://archive-api.open-meteo.com/v1/archive\"\n",
        "\n",
        "# Function to download and save data\n",
        "def get_weather_data(year):\n",
        "    all_data = []\n",
        "    for idx, (lon, lat) in enumerate(stations):\n",
        "        params = {\n",
        "            \"latitude\": lat,\n",
        "            \"longitude\": lon,\n",
        "            \"start_date\": f\"{year}-01-01\",\n",
        "            \"end_date\": f\"{year}-12-31\",\n",
        "            \"hourly\": \"temperature_2m,precipitation,relative_humidity_2m\",\n",
        "            \"timezone\": \"auto\"\n",
        "        }\n",
        "        response = requests.get(base_url, params=params)\n",
        "        if response.status_code == 200:\n",
        "            data = response.json()\n",
        "            df = pd.DataFrame({\n",
        "                \"time\": data[\"hourly\"][\"time\"],\n",
        "                \"temperature_C\": data[\"hourly\"][\"temperature_2m\"],\n",
        "                \"precipitation_mm\": data[\"hourly\"][\"precipitation\"],\n",
        "                \"humidity_%\": data[\"hourly\"][\"relative_humidity_2m\"],\n",
        "            })\n",
        "            df[\"station_id\"] = idx + 1\n",
        "            df[\"latitude\"] = lat\n",
        "            df[\"longitude\"] = lon\n",
        "            all_data.append(df)\n",
        "        else:\n",
        "            print(f\"Failed for station {idx+1} - Status: {response.status_code}\")\n",
        "\n",
        "    combined = pd.concat(all_data)\n",
        "    combined.to_csv(f\"subway_weather_{year}.csv\", index=False)\n",
        "    print(f\"Saved subway_weather_{year}.csv\")\n",
        "\n",
        "# Download for 2023\n",
        "get_weather_data(2023)\n",
        "\n",
        "# Download for 2024\n",
        "get_weather_data(2024)\n"
      ],
      "metadata": {
        "colab": {
          "base_uri": "https://localhost:8080/"
        },
        "id": "w2hhvvErJhqD",
        "outputId": "4bf4a6e7-d6d7-47ec-87ab-2d3a16305b72"
      },
      "execution_count": 2,
      "outputs": [
        {
          "output_type": "stream",
          "name": "stdout",
          "text": [
            "Saved subway_weather_2023.csv\n",
            "Saved subway_weather_2024.csv\n"
          ]
        }
      ]
    },
    {
      "cell_type": "code",
      "source": [
        "from google.colab import files\n",
        "files.download('subway_weather_2023.csv')\n",
        "files.download('subway_weather_2024.csv')\n"
      ],
      "metadata": {
        "colab": {
          "base_uri": "https://localhost:8080/",
          "height": 17
        },
        "id": "En0To4tmJnpP",
        "outputId": "08ca2c7d-edec-41f3-881c-9930a741beb7"
      },
      "execution_count": 3,
      "outputs": [
        {
          "output_type": "display_data",
          "data": {
            "text/plain": [
              "<IPython.core.display.Javascript object>"
            ],
            "application/javascript": [
              "\n",
              "    async function download(id, filename, size) {\n",
              "      if (!google.colab.kernel.accessAllowed) {\n",
              "        return;\n",
              "      }\n",
              "      const div = document.createElement('div');\n",
              "      const label = document.createElement('label');\n",
              "      label.textContent = `Downloading \"${filename}\": `;\n",
              "      div.appendChild(label);\n",
              "      const progress = document.createElement('progress');\n",
              "      progress.max = size;\n",
              "      div.appendChild(progress);\n",
              "      document.body.appendChild(div);\n",
              "\n",
              "      const buffers = [];\n",
              "      let downloaded = 0;\n",
              "\n",
              "      const channel = await google.colab.kernel.comms.open(id);\n",
              "      // Send a message to notify the kernel that we're ready.\n",
              "      channel.send({})\n",
              "\n",
              "      for await (const message of channel.messages) {\n",
              "        // Send a message to notify the kernel that we're ready.\n",
              "        channel.send({})\n",
              "        if (message.buffers) {\n",
              "          for (const buffer of message.buffers) {\n",
              "            buffers.push(buffer);\n",
              "            downloaded += buffer.byteLength;\n",
              "            progress.value = downloaded;\n",
              "          }\n",
              "        }\n",
              "      }\n",
              "      const blob = new Blob(buffers, {type: 'application/binary'});\n",
              "      const a = document.createElement('a');\n",
              "      a.href = window.URL.createObjectURL(blob);\n",
              "      a.download = filename;\n",
              "      div.appendChild(a);\n",
              "      a.click();\n",
              "      div.remove();\n",
              "    }\n",
              "  "
            ]
          },
          "metadata": {}
        },
        {
          "output_type": "display_data",
          "data": {
            "text/plain": [
              "<IPython.core.display.Javascript object>"
            ],
            "application/javascript": [
              "download(\"download_8227ce78-d219-4b65-88f1-0e1fac5cc631\", \"subway_weather_2023.csv\", 8947329)"
            ]
          },
          "metadata": {}
        },
        {
          "output_type": "display_data",
          "data": {
            "text/plain": [
              "<IPython.core.display.Javascript object>"
            ],
            "application/javascript": [
              "\n",
              "    async function download(id, filename, size) {\n",
              "      if (!google.colab.kernel.accessAllowed) {\n",
              "        return;\n",
              "      }\n",
              "      const div = document.createElement('div');\n",
              "      const label = document.createElement('label');\n",
              "      label.textContent = `Downloading \"${filename}\": `;\n",
              "      div.appendChild(label);\n",
              "      const progress = document.createElement('progress');\n",
              "      progress.max = size;\n",
              "      div.appendChild(progress);\n",
              "      document.body.appendChild(div);\n",
              "\n",
              "      const buffers = [];\n",
              "      let downloaded = 0;\n",
              "\n",
              "      const channel = await google.colab.kernel.comms.open(id);\n",
              "      // Send a message to notify the kernel that we're ready.\n",
              "      channel.send({})\n",
              "\n",
              "      for await (const message of channel.messages) {\n",
              "        // Send a message to notify the kernel that we're ready.\n",
              "        channel.send({})\n",
              "        if (message.buffers) {\n",
              "          for (const buffer of message.buffers) {\n",
              "            buffers.push(buffer);\n",
              "            downloaded += buffer.byteLength;\n",
              "            progress.value = downloaded;\n",
              "          }\n",
              "        }\n",
              "      }\n",
              "      const blob = new Blob(buffers, {type: 'application/binary'});\n",
              "      const a = document.createElement('a');\n",
              "      a.href = window.URL.createObjectURL(blob);\n",
              "      a.download = filename;\n",
              "      div.appendChild(a);\n",
              "      a.click();\n",
              "      div.remove();\n",
              "    }\n",
              "  "
            ]
          },
          "metadata": {}
        },
        {
          "output_type": "display_data",
          "data": {
            "text/plain": [
              "<IPython.core.display.Javascript object>"
            ],
            "application/javascript": [
              "download(\"download_618888ab-4061-49d4-b51c-7a3b05c0b82a\", \"subway_weather_2024.csv\", 8978226)"
            ]
          },
          "metadata": {}
        }
      ]
    },
    {
      "cell_type": "code",
      "source": [],
      "metadata": {
        "id": "fQw5B0BNJ-zw"
      },
      "execution_count": null,
      "outputs": []
    }
  ]
}