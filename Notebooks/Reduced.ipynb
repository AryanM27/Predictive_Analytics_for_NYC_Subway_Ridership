{
 "cells": [
  {
   "cell_type": "code",
   "id": "initial_id",
   "metadata": {
    "collapsed": true,
    "ExecuteTime": {
     "end_time": "2025-04-28T01:31:22.599802Z",
     "start_time": "2025-04-28T01:31:22.581899Z"
    }
   },
   "source": [
    "import numpy as np\n",
    "import pandas as pd\n",
    "import matplotlib as plt\n",
    "import pyspark as sp\n",
    "from pyspark.sql.functions import col, year, to_timestamp, sum as _sum, desc"
   ],
   "outputs": [],
   "execution_count": 6
  },
  {
   "metadata": {
    "ExecuteTime": {
     "end_time": "2025-04-28T01:31:31.113910Z",
     "start_time": "2025-04-28T01:31:22.612360Z"
    }
   },
   "cell_type": "code",
   "source": "spark = sp.sql.SparkSession.builder.appName(\"Reduced MTA\").master(\"local[*]\").config(\"spark.driver.memory\", \"8g\").getOrCreate()",
   "id": "1a7645f3de4c702d",
   "outputs": [],
   "execution_count": 7
  },
  {
   "metadata": {
    "ExecuteTime": {
     "end_time": "2025-04-28T01:31:34.734677Z",
     "start_time": "2025-04-28T01:31:31.147055Z"
    }
   },
   "cell_type": "code",
   "source": "df = spark.read.parquet(\"D:/data/mta_hourly\")",
   "id": "864c2c02f8d5419",
   "outputs": [],
   "execution_count": 8
  },
  {
   "metadata": {
    "ExecuteTime": {
     "end_time": "2025-04-28T01:31:34.902830Z",
     "start_time": "2025-04-28T01:31:34.769103Z"
    }
   },
   "cell_type": "code",
   "source": [
    " #Convert timestamp string to actual timestamp\n",
    "df = df.withColumn(\"timestamp\", to_timestamp(col(\"transit_timestamp\"), \"MM/dd/yyyy HH:mm:ss a\"))\n",
    "\n",
    "# Extract year from timestamp\n",
    "df = df.withColumn(\"year\", year(col(\"timestamp\")))\n",
    "\n",
    "# Filter for 2023 and 2024\n",
    "df_filtered = df.filter(col(\"year\").isin(2023, 2024))"
   ],
   "id": "4cce32497c9e05cd",
   "outputs": [],
   "execution_count": 9
  },
  {
   "metadata": {
    "ExecuteTime": {
     "end_time": "2025-04-28T01:36:31.780168Z",
     "start_time": "2025-04-28T01:31:35.166427Z"
    }
   },
   "cell_type": "code",
   "source": "df_filtered.count()",
   "id": "3058001fd565dee",
   "outputs": [
    {
     "data": {
      "text/plain": [
       "25052735"
      ]
     },
     "execution_count": 10,
     "metadata": {},
     "output_type": "execute_result"
    }
   ],
   "execution_count": 10
  },
  {
   "metadata": {
    "ExecuteTime": {
     "end_time": "2025-04-28T01:36:31.886583Z",
     "start_time": "2025-04-28T01:36:31.880378Z"
    }
   },
   "cell_type": "code",
   "source": "top10_stations = [\"Times Sq-42 St (N,Q,R,W,S,1,2,3,7)/42 St (A,C,E)\", \"Grand Central-42 St (S,4,5,6,7)\", \"74-Broadway (7)/Jackson Hts-Roosevelt Av (E,F,M,R)\", \"Flushing-Main St (7)\", \"34 St-Penn Station (A,C,E)\", \"34 St-Penn Station (1,2,3)\", \"34 St-Herald Sq (B,D,F,M,N,Q,R,W)\", \"Fulton St (A,C,J,Z,2,3,4,5)\", \"14 St-Union Sq (L,N,Q,R,W,4,5,6)\", \"Junction Blvd (7)\"]",
   "id": "d46e12a9c8a0576e",
   "outputs": [],
   "execution_count": 11
  },
  {
   "metadata": {
    "ExecuteTime": {
     "end_time": "2025-04-28T01:36:31.989646Z",
     "start_time": "2025-04-28T01:36:31.958143Z"
    }
   },
   "cell_type": "code",
   "source": "df_top10 = df_filtered.filter(col(\"station_complex\").isin(top10_stations))",
   "id": "d8e27e6b3b2e17a8",
   "outputs": [],
   "execution_count": 12
  },
  {
   "metadata": {
    "ExecuteTime": {
     "end_time": "2025-04-28T01:38:56.483904Z",
     "start_time": "2025-04-28T01:36:32.072888Z"
    }
   },
   "cell_type": "code",
   "source": "df_top10.count()",
   "id": "9dc95c5fd7b1e0b4",
   "outputs": [
    {
     "data": {
      "text/plain": [
       "735426"
      ]
     },
     "execution_count": 13,
     "metadata": {},
     "output_type": "execute_result"
    }
   ],
   "execution_count": 13
  },
  {
   "metadata": {
    "ExecuteTime": {
     "end_time": "2025-04-28T01:38:56.955279Z",
     "start_time": "2025-04-28T01:38:56.542330Z"
    }
   },
   "cell_type": "code",
   "source": "df_top10.show(5)",
   "id": "bbe5c4af7935a309",
   "outputs": [
    {
     "name": "stdout",
     "output_type": "stream",
     "text": [
      "+--------------------+------------------+--------------------+--------------+--------------------+---------+---------+---------+----------+--------------------+------------+---------+-------------------+----+\n",
      "|   transit_timestamp|station_complex_id|     station_complex|payment_method| fare_class_category|ridership|transfers| latitude| longitude|        Georeference|transit_mode|  borough|          timestamp|year|\n",
      "+--------------------+------------------+--------------------+--------------+--------------------+---------+---------+---------+----------+--------------------+------------+---------+-------------------+----+\n",
      "|05/04/2024 03:00:...|               602|14 St-Union Sq (L...|     metrocard|Metrocard - Unlim...|       24|        0|40.735737| -73.98995|POINT (-73.98995 ...|      subway|Manhattan|2024-05-04 03:00:00|2024|\n",
      "|09/08/2024 12:00:...|               628|Fulton St (A,C,J,...|     metrocard|Metrocard - Fair ...|       22|        0|40.710373| -74.00657|POINT (-74.00657 ...|      subway|Manhattan|2024-09-08 12:00:00|2024|\n",
      "|09/08/2024 02:00:...|               602|14 St-Union Sq (L...|     metrocard|Metrocard - Unlim...|       27|        0|40.735737| -73.98995|POINT (-73.98995 ...|      subway|Manhattan|2024-09-08 02:00:00|2024|\n",
      "|09/08/2024 11:00:...|               610|Grand Central-42 ...|          omny|        OMNY - Other|       24|        0|40.751778|-73.976845|POINT (-73.976845...|      subway|Manhattan|2024-09-08 11:00:00|2024|\n",
      "|03/09/2024 11:00:...|               602|14 St-Union Sq (L...|     metrocard|Metrocard - Full ...|      278|        6|40.735737| -73.98995|POINT (-73.98995 ...|      subway|Manhattan|2024-03-09 11:00:00|2024|\n",
      "+--------------------+------------------+--------------------+--------------+--------------------+---------+---------+---------+----------+--------------------+------------+---------+-------------------+----+\n",
      "only showing top 5 rows\n",
      "\n"
     ]
    }
   ],
   "execution_count": 14
  },
  {
   "metadata": {
    "ExecuteTime": {
     "end_time": "2025-04-28T01:38:57.042972Z",
     "start_time": "2025-04-28T01:38:57.037281Z"
    }
   },
   "cell_type": "code",
   "source": "top15_stations = [\"Atlantic Av-Barclays Ctr (B,D,N,Q,R,2,3,4,5)\", \"Crown Hts-Utica Av (3,4)\", \"Bedford Av (L)\", \"Myrtle-Wyckoff Avs (L,M)\", \"Kings Hwy (B,Q)\", \"Times Sq-42 St (N,Q,R,W,S,1,2,3,7)/42 St (A,C,E)\", \"Grand Central-42 St (S,4,5,6,7)\", \"34 St-Penn Station (A,C,E)\", \"34 St-Penn Station (1,2,3)\", \"34 St-Herald Sq (B,D,F,M,N,Q,R,W)\", \"74-Broadway (7)/Jackson Hts-Roosevelt Av (E,F,M,R)\", \"Flushing-Main St (7)\", \"Junction Blvd (7)\", \"103 St-Corona Plaza (7)\", \"Jamaica Center-Parsons/Archer (E,J,Z)\"]",
   "id": "386aad422d87e618",
   "outputs": [],
   "execution_count": 15
  },
  {
   "metadata": {
    "ExecuteTime": {
     "end_time": "2025-04-28T01:38:57.213006Z",
     "start_time": "2025-04-28T01:38:57.170673Z"
    }
   },
   "cell_type": "code",
   "source": "df_top15 = df_filtered.filter(col(\"station_complex\").isin(top15_stations))",
   "id": "86ddb4169535ef8f",
   "outputs": [],
   "execution_count": 16
  },
  {
   "metadata": {
    "ExecuteTime": {
     "end_time": "2025-04-28T01:43:07.611006Z",
     "start_time": "2025-04-28T01:38:57.226124Z"
    }
   },
   "cell_type": "code",
   "source": "df_top15.count()",
   "id": "231e6d9a55596b8",
   "outputs": [
    {
     "data": {
      "text/plain": [
       "1073980"
      ]
     },
     "execution_count": 17,
     "metadata": {},
     "output_type": "execute_result"
    }
   ],
   "execution_count": 17
  },
  {
   "metadata": {
    "ExecuteTime": {
     "end_time": "2025-04-28T01:43:54.490856Z",
     "start_time": "2025-04-28T01:43:07.671942Z"
    }
   },
   "cell_type": "code",
   "source": [
    "df_grouped_1 = df_filtered.groupBy(\"borough\", \"station_complex\").agg(_sum(\"ridership\").alias(\"total_ridership\"))\n",
    "df_grouped_1.filter(col(\"borough\") == \"Bronx\").orderBy(desc(\"total_ridership\")).limit(5).show(truncate=False)"
   ],
   "id": "273684e926e0dcac",
   "outputs": [
    {
     "name": "stdout",
     "output_type": "stream",
     "text": [
      "+-------+-----------------------------+---------------+\n",
      "|borough|station_complex              |total_ridership|\n",
      "+-------+-----------------------------+---------------+\n",
      "|Bronx  |161 St-Yankee Stadium (B,D,4)|4521294        |\n",
      "|Bronx  |Parkchester (6)              |4070365        |\n",
      "|Bronx  |3 Av-149 St (2,5)            |3514056        |\n",
      "|Bronx  |Fordham Rd (4)               |2258342        |\n",
      "|Bronx  |Hunts Point Av (6)           |2255898        |\n",
      "+-------+-----------------------------+---------------+\n",
      "\n"
     ]
    }
   ],
   "execution_count": 18
  },
  {
   "metadata": {
    "ExecuteTime": {
     "end_time": "2025-04-28T01:43:54.577523Z",
     "start_time": "2025-04-28T01:43:54.571551Z"
    }
   },
   "cell_type": "code",
   "source": "top20_stations = [\"Atlantic Av-Barclays Ctr (B,D,N,Q,R,2,3,4,5)\", \"Crown Hts-Utica Av (3,4)\", \"Bedford Av (L)\", \"Myrtle-Wyckoff Avs (L,M)\", \"Kings Hwy (B,Q)\", \"Times Sq-42 St (N,Q,R,W,S,1,2,3,7)/42 St (A,C,E)\", \"Grand Central-42 St (S,4,5,6,7)\", \"34 St-Penn Station (A,C,E)\", \"34 St-Penn Station (1,2,3)\", \"34 St-Herald Sq (B,D,F,M,N,Q,R,W)\", \"74-Broadway (7)/Jackson Hts-Roosevelt Av (E,F,M,R)\", \"Flushing-Main St (7)\", \"Junction Blvd (7)\", \"103 St-Corona Plaza (7)\", \"Jamaica Center-Parsons/Archer (E,J,Z)\", \"161 St-Yankee Stadium (B,D,4)\", \"Parkchester (6)\", \"3 Av-149 St (2,5)\", \"Fordham Rd (4)\", \"Hunts Point Av (6)\"]",
   "id": "3b27e4d0e505f37",
   "outputs": [],
   "execution_count": 19
  },
  {
   "metadata": {
    "ExecuteTime": {
     "end_time": "2025-04-28T01:48:50.418285Z",
     "start_time": "2025-04-28T01:43:54.681685Z"
    }
   },
   "cell_type": "code",
   "source": [
    "df_top20 = df_filtered.filter(col(\"station_complex\").isin(top20_stations))\n",
    "df_top20.count()"
   ],
   "id": "5cc76743c810217f",
   "outputs": [
    {
     "data": {
      "text/plain": [
       "1411411"
      ]
     },
     "execution_count": 20,
     "metadata": {},
     "output_type": "execute_result"
    }
   ],
   "execution_count": 20
  },
  {
   "metadata": {
    "ExecuteTime": {
     "end_time": "2025-04-28T01:48:50.609375Z",
     "start_time": "2025-04-28T01:48:50.483887Z"
    }
   },
   "cell_type": "code",
   "source": "df_top20.show(5)",
   "id": "46c128ef2c6c380",
   "outputs": [
    {
     "name": "stdout",
     "output_type": "stream",
     "text": [
      "+--------------------+------------------+--------------------+--------------+--------------------+---------+---------+---------+----------+--------------------+------------+--------+-------------------+----+\n",
      "|   transit_timestamp|station_complex_id|     station_complex|payment_method| fare_class_category|ridership|transfers| latitude| longitude|        Georeference|transit_mode| borough|          timestamp|year|\n",
      "+--------------------+------------------+--------------------+--------------+--------------------+---------+---------+---------+----------+--------------------+------------+--------+-------------------+----+\n",
      "|03/09/2024 12:00:...|               345|Crown Hts-Utica A...|          omny|    OMNY - Full Fare|      297|       19|40.668896|-73.932945|POINT (-73.932945...|      subway|Brooklyn|2024-03-09 12:00:00|2024|\n",
      "|03/09/2024 12:00:...|               120|      Bedford Av (L)|     metrocard|Metrocard - Students|        2|        0|40.717304| -73.95687|POINT (-73.95687 ...|      subway|Brooklyn|2024-03-09 12:00:00|2024|\n",
      "|05/04/2024 06:00:...|               345|Crown Hts-Utica A...|     metrocard|Metrocard - Senio...|       20|        5|40.668896|-73.932945|POINT (-73.932945...|      subway|Brooklyn|2024-05-04 06:00:00|2024|\n",
      "|05/04/2024 02:00:...|               630|Myrtle-Wyckoff Av...|     metrocard|Metrocard - Full ...|        2|        0|40.699814| -73.91158|POINT (-73.91158 ...|      subway|Brooklyn|2024-05-04 02:00:00|2024|\n",
      "|03/09/2024 01:00:...|                51|     Kings Hwy (B,Q)|          omny|    OMNY - Full Fare|        5|        0| 40.60867| -73.95773|POINT (-73.95773 ...|      subway|Brooklyn|2024-03-09 01:00:00|2024|\n",
      "+--------------------+------------------+--------------------+--------------+--------------------+---------+---------+---------+----------+--------------------+------------+--------+-------------------+----+\n",
      "only showing top 5 rows\n",
      "\n"
     ]
    }
   ],
   "execution_count": 21
  },
  {
   "metadata": {
    "ExecuteTime": {
     "end_time": "2025-04-28T01:53:56.749312Z",
     "start_time": "2025-04-28T01:48:50.682979Z"
    }
   },
   "cell_type": "code",
   "source": "df_top20.select(\"transit_mode\").distinct().show(truncate=False)",
   "id": "e331b1f94fb7bfaf",
   "outputs": [
    {
     "name": "stdout",
     "output_type": "stream",
     "text": [
      "+------------+\n",
      "|transit_mode|\n",
      "+------------+\n",
      "|subway      |\n",
      "+------------+\n",
      "\n"
     ]
    }
   ],
   "execution_count": 22
  },
  {
   "metadata": {
    "ExecuteTime": {
     "end_time": "2025-04-28T01:58:58.998731Z",
     "start_time": "2025-04-28T01:53:56.819203Z"
    }
   },
   "cell_type": "code",
   "source": "df_top20.select(\"Georeference\").distinct().show(truncate=False)",
   "id": "9f655e9aea3af785",
   "outputs": [
    {
     "name": "stdout",
     "output_type": "stream",
     "text": [
      "+----------------------------+\n",
      "|Georeference                |\n",
      "+----------------------------+\n",
      "|POINT (-73.95773 40.60867)  |\n",
      "|POINT (-73.97767 40.68436)  |\n",
      "|POINT (-73.91158 40.699814) |\n",
      "|POINT (-73.97689 40.68446)  |\n",
      "|POINT (-73.97881 40.683666) |\n",
      "|POINT (-73.95687 40.717304) |\n",
      "|POINT (-73.932945 40.668896)|\n",
      "|POINT (-73.987495 40.75731) |\n",
      "|POINT (-73.987495 40.75529) |\n",
      "|POINT (-73.98795 40.749565) |\n",
      "|POINT (-73.986755 40.75731) |\n",
      "|POINT (-73.986755 40.75529) |\n",
      "|POINT (-73.976845 40.751778)|\n",
      "|POINT (-73.99339 40.75229)  |\n",
      "|POINT (-73.98782 40.749718) |\n",
      "|POINT (-73.99106 40.750374) |\n",
      "|POINT (-73.98974 40.75731)  |\n",
      "|POINT (-73.986755 40.754673)|\n",
      "|POINT (-73.891335 40.74685) |\n",
      "|POINT (-73.80111 40.70215)  |\n",
      "+----------------------------+\n",
      "only showing top 20 rows\n",
      "\n"
     ]
    }
   ],
   "execution_count": 23
  },
  {
   "metadata": {
    "ExecuteTime": {
     "end_time": "2025-04-28T02:12:10.962238Z",
     "start_time": "2025-04-28T01:58:59.084633Z"
    }
   },
   "cell_type": "code",
   "source": [
    "df_top10.write.mode(\"overwrite\").csv(\"D:/data/top10_mta_data\", header=True)\n",
    "df_top15.write.mode(\"overwrite\").csv(\"D:/data/top15_mta_data\", header=True)\n",
    "df_top20.write.mode(\"overwrite\").csv(\"D:/data/top20_mta_data\", header=True)"
   ],
   "id": "c4368b5d26c15f50",
   "outputs": [],
   "execution_count": 24
  },
  {
   "metadata": {
    "ExecuteTime": {
     "end_time": "2025-04-28T02:14:12.332289Z",
     "start_time": "2025-04-28T02:14:12.205318Z"
    }
   },
   "cell_type": "code",
   "source": [
    "df_top10.write.mode(\"overwrite\").parquet(\"D:/data/top10_mta_data\")\n",
    "df_top15.write.mode(\"overwrite\").parquet(\"D:/data/top15_mta_data\")\n",
    "df_top20.write.mode(\"overwrite\").parquet(\"D:/data/top20_mta_data\")"
   ],
   "id": "49f744339aa1b61c",
   "outputs": [
    {
     "ename": "Py4JJavaError",
     "evalue": "An error occurred while calling o356.parquet.\n: java.util.NoSuchElementException: None.get\r\n\tat scala.None$.get(Option.scala:529)\r\n\tat scala.None$.get(Option.scala:527)\r\n\tat org.apache.spark.sql.execution.datasources.BasicWriteJobStatsTracker$.metrics(BasicWriteStatsTracker.scala:239)\r\n\tat org.apache.spark.sql.execution.command.DataWritingCommand.metrics(DataWritingCommand.scala:55)\r\n\tat org.apache.spark.sql.execution.command.DataWritingCommand.metrics$(DataWritingCommand.scala:55)\r\n\tat org.apache.spark.sql.execution.datasources.InsertIntoHadoopFsRelationCommand.metrics$lzycompute(InsertIntoHadoopFsRelationCommand.scala:47)\r\n\tat org.apache.spark.sql.execution.datasources.InsertIntoHadoopFsRelationCommand.metrics(InsertIntoHadoopFsRelationCommand.scala:47)\r\n\tat org.apache.spark.sql.execution.command.DataWritingCommandExec.metrics$lzycompute(commands.scala:109)\r\n\tat org.apache.spark.sql.execution.command.DataWritingCommandExec.metrics(commands.scala:109)\r\n\tat org.apache.spark.sql.execution.SparkPlanInfo$.fromSparkPlan(SparkPlanInfo.scala:63)\r\n\tat org.apache.spark.sql.execution.SQLExecution$.$anonfun$withNewExecutionId$6(SQLExecution.scala:115)\r\n\tat org.apache.spark.sql.execution.SQLExecution$.withSQLConfPropagated(SQLExecution.scala:195)\r\n\tat org.apache.spark.sql.execution.SQLExecution$.$anonfun$withNewExecutionId$1(SQLExecution.scala:103)\r\n\tat org.apache.spark.sql.SparkSession.withActive(SparkSession.scala:827)\r\n\tat org.apache.spark.sql.execution.SQLExecution$.withNewExecutionId(SQLExecution.scala:65)\r\n\tat org.apache.spark.sql.execution.QueryExecution$$anonfun$eagerlyExecuteCommands$1.applyOrElse(QueryExecution.scala:98)\r\n\tat org.apache.spark.sql.execution.QueryExecution$$anonfun$eagerlyExecuteCommands$1.applyOrElse(QueryExecution.scala:94)\r\n\tat org.apache.spark.sql.catalyst.trees.TreeNode.$anonfun$transformDownWithPruning$1(TreeNode.scala:512)\r\n\tat org.apache.spark.sql.catalyst.trees.CurrentOrigin$.withOrigin(TreeNode.scala:104)\r\n\tat org.apache.spark.sql.catalyst.trees.TreeNode.transformDownWithPruning(TreeNode.scala:512)\r\n\tat org.apache.spark.sql.catalyst.plans.logical.LogicalPlan.org$apache$spark$sql$catalyst$plans$logical$AnalysisHelper$$super$transformDownWithPruning(LogicalPlan.scala:31)\r\n\tat org.apache.spark.sql.catalyst.plans.logical.AnalysisHelper.transformDownWithPruning(AnalysisHelper.scala:267)\r\n\tat org.apache.spark.sql.catalyst.plans.logical.AnalysisHelper.transformDownWithPruning$(AnalysisHelper.scala:263)\r\n\tat org.apache.spark.sql.catalyst.plans.logical.LogicalPlan.transformDownWithPruning(LogicalPlan.scala:31)\r\n\tat org.apache.spark.sql.catalyst.plans.logical.LogicalPlan.transformDownWithPruning(LogicalPlan.scala:31)\r\n\tat org.apache.spark.sql.catalyst.trees.TreeNode.transformDown(TreeNode.scala:488)\r\n\tat org.apache.spark.sql.execution.QueryExecution.eagerlyExecuteCommands(QueryExecution.scala:94)\r\n\tat org.apache.spark.sql.execution.QueryExecution.commandExecuted$lzycompute(QueryExecution.scala:81)\r\n\tat org.apache.spark.sql.execution.QueryExecution.commandExecuted(QueryExecution.scala:79)\r\n\tat org.apache.spark.sql.execution.QueryExecution.assertCommandExecuted(QueryExecution.scala:133)\r\n\tat org.apache.spark.sql.DataFrameWriter.runCommand(DataFrameWriter.scala:856)\r\n\tat org.apache.spark.sql.DataFrameWriter.saveToV1Source(DataFrameWriter.scala:387)\r\n\tat org.apache.spark.sql.DataFrameWriter.saveInternal(DataFrameWriter.scala:360)\r\n\tat org.apache.spark.sql.DataFrameWriter.save(DataFrameWriter.scala:239)\r\n\tat org.apache.spark.sql.DataFrameWriter.parquet(DataFrameWriter.scala:789)\r\n\tat java.base/jdk.internal.reflect.NativeMethodAccessorImpl.invoke0(Native Method)\r\n\tat java.base/jdk.internal.reflect.NativeMethodAccessorImpl.invoke(NativeMethodAccessorImpl.java:62)\r\n\tat java.base/jdk.internal.reflect.DelegatingMethodAccessorImpl.invoke(DelegatingMethodAccessorImpl.java:43)\r\n\tat java.base/java.lang.reflect.Method.invoke(Method.java:566)\r\n\tat py4j.reflection.MethodInvoker.invoke(MethodInvoker.java:244)\r\n\tat py4j.reflection.ReflectionEngine.invoke(ReflectionEngine.java:374)\r\n\tat py4j.Gateway.invoke(Gateway.java:282)\r\n\tat py4j.commands.AbstractCommand.invokeMethod(AbstractCommand.java:132)\r\n\tat py4j.commands.CallCommand.execute(CallCommand.java:79)\r\n\tat py4j.ClientServerConnection.waitForCommands(ClientServerConnection.java:182)\r\n\tat py4j.ClientServerConnection.run(ClientServerConnection.java:106)\r\n\tat java.base/java.lang.Thread.run(Thread.java:834)\r\n",
     "output_type": "error",
     "traceback": [
      "\u001B[31m---------------------------------------------------------------------------\u001B[39m",
      "\u001B[31mPy4JJavaError\u001B[39m                             Traceback (most recent call last)",
      "\u001B[36mCell\u001B[39m\u001B[36m \u001B[39m\u001B[32mIn[30]\u001B[39m\u001B[32m, line 1\u001B[39m\n\u001B[32m----> \u001B[39m\u001B[32m1\u001B[39m \u001B[43mdf_top10\u001B[49m\u001B[43m.\u001B[49m\u001B[43mwrite\u001B[49m\u001B[43m.\u001B[49m\u001B[43mmode\u001B[49m\u001B[43m(\u001B[49m\u001B[33;43m\"\u001B[39;49m\u001B[33;43moverwrite\u001B[39;49m\u001B[33;43m\"\u001B[39;49m\u001B[43m)\u001B[49m\u001B[43m.\u001B[49m\u001B[43mparquet\u001B[49m\u001B[43m(\u001B[49m\u001B[33;43m\"\u001B[39;49m\u001B[33;43mD:/data/top10_mta_data\u001B[39;49m\u001B[33;43m\"\u001B[39;49m\u001B[43m)\u001B[49m\n\u001B[32m      2\u001B[39m df_top15.write.mode(\u001B[33m\"\u001B[39m\u001B[33moverwrite\u001B[39m\u001B[33m\"\u001B[39m).parquet(\u001B[33m\"\u001B[39m\u001B[33mD:/data/top15_mta_data\u001B[39m\u001B[33m\"\u001B[39m)\n\u001B[32m      3\u001B[39m df_top20.write.mode(\u001B[33m\"\u001B[39m\u001B[33moverwrite\u001B[39m\u001B[33m\"\u001B[39m).parquet(\u001B[33m\"\u001B[39m\u001B[33mD:/data/top20_mta_data\u001B[39m\u001B[33m\"\u001B[39m)\n",
      "\u001B[36mFile \u001B[39m\u001B[32m~\\PycharmProjects\\venv1\\Lib\\site-packages\\pyspark\\sql\\readwriter.py:1721\u001B[39m, in \u001B[36mDataFrameWriter.parquet\u001B[39m\u001B[34m(self, path, mode, partitionBy, compression)\u001B[39m\n\u001B[32m   1719\u001B[39m     \u001B[38;5;28mself\u001B[39m.partitionBy(partitionBy)\n\u001B[32m   1720\u001B[39m \u001B[38;5;28mself\u001B[39m._set_opts(compression=compression)\n\u001B[32m-> \u001B[39m\u001B[32m1721\u001B[39m \u001B[38;5;28;43mself\u001B[39;49m\u001B[43m.\u001B[49m\u001B[43m_jwrite\u001B[49m\u001B[43m.\u001B[49m\u001B[43mparquet\u001B[49m\u001B[43m(\u001B[49m\u001B[43mpath\u001B[49m\u001B[43m)\u001B[49m\n",
      "\u001B[36mFile \u001B[39m\u001B[32m~\\PycharmProjects\\venv1\\Lib\\site-packages\\py4j\\java_gateway.py:1322\u001B[39m, in \u001B[36mJavaMember.__call__\u001B[39m\u001B[34m(self, *args)\u001B[39m\n\u001B[32m   1316\u001B[39m command = proto.CALL_COMMAND_NAME +\\\n\u001B[32m   1317\u001B[39m     \u001B[38;5;28mself\u001B[39m.command_header +\\\n\u001B[32m   1318\u001B[39m     args_command +\\\n\u001B[32m   1319\u001B[39m     proto.END_COMMAND_PART\n\u001B[32m   1321\u001B[39m answer = \u001B[38;5;28mself\u001B[39m.gateway_client.send_command(command)\n\u001B[32m-> \u001B[39m\u001B[32m1322\u001B[39m return_value = \u001B[43mget_return_value\u001B[49m\u001B[43m(\u001B[49m\n\u001B[32m   1323\u001B[39m \u001B[43m    \u001B[49m\u001B[43manswer\u001B[49m\u001B[43m,\u001B[49m\u001B[43m \u001B[49m\u001B[38;5;28;43mself\u001B[39;49m\u001B[43m.\u001B[49m\u001B[43mgateway_client\u001B[49m\u001B[43m,\u001B[49m\u001B[43m \u001B[49m\u001B[38;5;28;43mself\u001B[39;49m\u001B[43m.\u001B[49m\u001B[43mtarget_id\u001B[49m\u001B[43m,\u001B[49m\u001B[43m \u001B[49m\u001B[38;5;28;43mself\u001B[39;49m\u001B[43m.\u001B[49m\u001B[43mname\u001B[49m\u001B[43m)\u001B[49m\n\u001B[32m   1325\u001B[39m \u001B[38;5;28;01mfor\u001B[39;00m temp_arg \u001B[38;5;129;01min\u001B[39;00m temp_args:\n\u001B[32m   1326\u001B[39m     \u001B[38;5;28;01mif\u001B[39;00m \u001B[38;5;28mhasattr\u001B[39m(temp_arg, \u001B[33m\"\u001B[39m\u001B[33m_detach\u001B[39m\u001B[33m\"\u001B[39m):\n",
      "\u001B[36mFile \u001B[39m\u001B[32m~\\PycharmProjects\\venv1\\Lib\\site-packages\\pyspark\\errors\\exceptions\\captured.py:179\u001B[39m, in \u001B[36mcapture_sql_exception.<locals>.deco\u001B[39m\u001B[34m(*a, **kw)\u001B[39m\n\u001B[32m    177\u001B[39m \u001B[38;5;28;01mdef\u001B[39;00m\u001B[38;5;250m \u001B[39m\u001B[34mdeco\u001B[39m(*a: Any, **kw: Any) -> Any:\n\u001B[32m    178\u001B[39m     \u001B[38;5;28;01mtry\u001B[39;00m:\n\u001B[32m--> \u001B[39m\u001B[32m179\u001B[39m         \u001B[38;5;28;01mreturn\u001B[39;00m \u001B[43mf\u001B[49m\u001B[43m(\u001B[49m\u001B[43m*\u001B[49m\u001B[43ma\u001B[49m\u001B[43m,\u001B[49m\u001B[43m \u001B[49m\u001B[43m*\u001B[49m\u001B[43m*\u001B[49m\u001B[43mkw\u001B[49m\u001B[43m)\u001B[49m\n\u001B[32m    180\u001B[39m     \u001B[38;5;28;01mexcept\u001B[39;00m Py4JJavaError \u001B[38;5;28;01mas\u001B[39;00m e:\n\u001B[32m    181\u001B[39m         converted = convert_exception(e.java_exception)\n",
      "\u001B[36mFile \u001B[39m\u001B[32m~\\PycharmProjects\\venv1\\Lib\\site-packages\\py4j\\protocol.py:326\u001B[39m, in \u001B[36mget_return_value\u001B[39m\u001B[34m(answer, gateway_client, target_id, name)\u001B[39m\n\u001B[32m    324\u001B[39m value = OUTPUT_CONVERTER[\u001B[38;5;28mtype\u001B[39m](answer[\u001B[32m2\u001B[39m:], gateway_client)\n\u001B[32m    325\u001B[39m \u001B[38;5;28;01mif\u001B[39;00m answer[\u001B[32m1\u001B[39m] == REFERENCE_TYPE:\n\u001B[32m--> \u001B[39m\u001B[32m326\u001B[39m     \u001B[38;5;28;01mraise\u001B[39;00m Py4JJavaError(\n\u001B[32m    327\u001B[39m         \u001B[33m\"\u001B[39m\u001B[33mAn error occurred while calling \u001B[39m\u001B[38;5;132;01m{0}\u001B[39;00m\u001B[38;5;132;01m{1}\u001B[39;00m\u001B[38;5;132;01m{2}\u001B[39;00m\u001B[33m.\u001B[39m\u001B[38;5;130;01m\\n\u001B[39;00m\u001B[33m\"\u001B[39m.\n\u001B[32m    328\u001B[39m         \u001B[38;5;28mformat\u001B[39m(target_id, \u001B[33m\"\u001B[39m\u001B[33m.\u001B[39m\u001B[33m\"\u001B[39m, name), value)\n\u001B[32m    329\u001B[39m \u001B[38;5;28;01melse\u001B[39;00m:\n\u001B[32m    330\u001B[39m     \u001B[38;5;28;01mraise\u001B[39;00m Py4JError(\n\u001B[32m    331\u001B[39m         \u001B[33m\"\u001B[39m\u001B[33mAn error occurred while calling \u001B[39m\u001B[38;5;132;01m{0}\u001B[39;00m\u001B[38;5;132;01m{1}\u001B[39;00m\u001B[38;5;132;01m{2}\u001B[39;00m\u001B[33m. Trace:\u001B[39m\u001B[38;5;130;01m\\n\u001B[39;00m\u001B[38;5;132;01m{3}\u001B[39;00m\u001B[38;5;130;01m\\n\u001B[39;00m\u001B[33m\"\u001B[39m.\n\u001B[32m    332\u001B[39m         \u001B[38;5;28mformat\u001B[39m(target_id, \u001B[33m\"\u001B[39m\u001B[33m.\u001B[39m\u001B[33m\"\u001B[39m, name, value))\n",
      "\u001B[31mPy4JJavaError\u001B[39m: An error occurred while calling o356.parquet.\n: java.util.NoSuchElementException: None.get\r\n\tat scala.None$.get(Option.scala:529)\r\n\tat scala.None$.get(Option.scala:527)\r\n\tat org.apache.spark.sql.execution.datasources.BasicWriteJobStatsTracker$.metrics(BasicWriteStatsTracker.scala:239)\r\n\tat org.apache.spark.sql.execution.command.DataWritingCommand.metrics(DataWritingCommand.scala:55)\r\n\tat org.apache.spark.sql.execution.command.DataWritingCommand.metrics$(DataWritingCommand.scala:55)\r\n\tat org.apache.spark.sql.execution.datasources.InsertIntoHadoopFsRelationCommand.metrics$lzycompute(InsertIntoHadoopFsRelationCommand.scala:47)\r\n\tat org.apache.spark.sql.execution.datasources.InsertIntoHadoopFsRelationCommand.metrics(InsertIntoHadoopFsRelationCommand.scala:47)\r\n\tat org.apache.spark.sql.execution.command.DataWritingCommandExec.metrics$lzycompute(commands.scala:109)\r\n\tat org.apache.spark.sql.execution.command.DataWritingCommandExec.metrics(commands.scala:109)\r\n\tat org.apache.spark.sql.execution.SparkPlanInfo$.fromSparkPlan(SparkPlanInfo.scala:63)\r\n\tat org.apache.spark.sql.execution.SQLExecution$.$anonfun$withNewExecutionId$6(SQLExecution.scala:115)\r\n\tat org.apache.spark.sql.execution.SQLExecution$.withSQLConfPropagated(SQLExecution.scala:195)\r\n\tat org.apache.spark.sql.execution.SQLExecution$.$anonfun$withNewExecutionId$1(SQLExecution.scala:103)\r\n\tat org.apache.spark.sql.SparkSession.withActive(SparkSession.scala:827)\r\n\tat org.apache.spark.sql.execution.SQLExecution$.withNewExecutionId(SQLExecution.scala:65)\r\n\tat org.apache.spark.sql.execution.QueryExecution$$anonfun$eagerlyExecuteCommands$1.applyOrElse(QueryExecution.scala:98)\r\n\tat org.apache.spark.sql.execution.QueryExecution$$anonfun$eagerlyExecuteCommands$1.applyOrElse(QueryExecution.scala:94)\r\n\tat org.apache.spark.sql.catalyst.trees.TreeNode.$anonfun$transformDownWithPruning$1(TreeNode.scala:512)\r\n\tat org.apache.spark.sql.catalyst.trees.CurrentOrigin$.withOrigin(TreeNode.scala:104)\r\n\tat org.apache.spark.sql.catalyst.trees.TreeNode.transformDownWithPruning(TreeNode.scala:512)\r\n\tat org.apache.spark.sql.catalyst.plans.logical.LogicalPlan.org$apache$spark$sql$catalyst$plans$logical$AnalysisHelper$$super$transformDownWithPruning(LogicalPlan.scala:31)\r\n\tat org.apache.spark.sql.catalyst.plans.logical.AnalysisHelper.transformDownWithPruning(AnalysisHelper.scala:267)\r\n\tat org.apache.spark.sql.catalyst.plans.logical.AnalysisHelper.transformDownWithPruning$(AnalysisHelper.scala:263)\r\n\tat org.apache.spark.sql.catalyst.plans.logical.LogicalPlan.transformDownWithPruning(LogicalPlan.scala:31)\r\n\tat org.apache.spark.sql.catalyst.plans.logical.LogicalPlan.transformDownWithPruning(LogicalPlan.scala:31)\r\n\tat org.apache.spark.sql.catalyst.trees.TreeNode.transformDown(TreeNode.scala:488)\r\n\tat org.apache.spark.sql.execution.QueryExecution.eagerlyExecuteCommands(QueryExecution.scala:94)\r\n\tat org.apache.spark.sql.execution.QueryExecution.commandExecuted$lzycompute(QueryExecution.scala:81)\r\n\tat org.apache.spark.sql.execution.QueryExecution.commandExecuted(QueryExecution.scala:79)\r\n\tat org.apache.spark.sql.execution.QueryExecution.assertCommandExecuted(QueryExecution.scala:133)\r\n\tat org.apache.spark.sql.DataFrameWriter.runCommand(DataFrameWriter.scala:856)\r\n\tat org.apache.spark.sql.DataFrameWriter.saveToV1Source(DataFrameWriter.scala:387)\r\n\tat org.apache.spark.sql.DataFrameWriter.saveInternal(DataFrameWriter.scala:360)\r\n\tat org.apache.spark.sql.DataFrameWriter.save(DataFrameWriter.scala:239)\r\n\tat org.apache.spark.sql.DataFrameWriter.parquet(DataFrameWriter.scala:789)\r\n\tat java.base/jdk.internal.reflect.NativeMethodAccessorImpl.invoke0(Native Method)\r\n\tat java.base/jdk.internal.reflect.NativeMethodAccessorImpl.invoke(NativeMethodAccessorImpl.java:62)\r\n\tat java.base/jdk.internal.reflect.DelegatingMethodAccessorImpl.invoke(DelegatingMethodAccessorImpl.java:43)\r\n\tat java.base/java.lang.reflect.Method.invoke(Method.java:566)\r\n\tat py4j.reflection.MethodInvoker.invoke(MethodInvoker.java:244)\r\n\tat py4j.reflection.ReflectionEngine.invoke(ReflectionEngine.java:374)\r\n\tat py4j.Gateway.invoke(Gateway.java:282)\r\n\tat py4j.commands.AbstractCommand.invokeMethod(AbstractCommand.java:132)\r\n\tat py4j.commands.CallCommand.execute(CallCommand.java:79)\r\n\tat py4j.ClientServerConnection.waitForCommands(ClientServerConnection.java:182)\r\n\tat py4j.ClientServerConnection.run(ClientServerConnection.java:106)\r\n\tat java.base/java.lang.Thread.run(Thread.java:834)\r\n"
     ]
    }
   ],
   "execution_count": 30
  },
  {
   "metadata": {
    "ExecuteTime": {
     "end_time": "2025-04-28T02:14:16.068081Z",
     "start_time": "2025-04-28T02:14:16.054956Z"
    }
   },
   "cell_type": "code",
   "source": "spark.stop()",
   "id": "7eb6fc14ff8f4f52",
   "outputs": [],
   "execution_count": 31
  },
  {
   "metadata": {},
   "cell_type": "code",
   "outputs": [],
   "execution_count": null,
   "source": "",
   "id": "bd30778082830ff1"
  }
 ],
 "metadata": {
  "kernelspec": {
   "display_name": "Python 3",
   "language": "python",
   "name": "python3"
  },
  "language_info": {
   "codemirror_mode": {
    "name": "ipython",
    "version": 2
   },
   "file_extension": ".py",
   "mimetype": "text/x-python",
   "name": "python",
   "nbconvert_exporter": "python",
   "pygments_lexer": "ipython2",
   "version": "2.7.6"
  }
 },
 "nbformat": 4,
 "nbformat_minor": 5
}
