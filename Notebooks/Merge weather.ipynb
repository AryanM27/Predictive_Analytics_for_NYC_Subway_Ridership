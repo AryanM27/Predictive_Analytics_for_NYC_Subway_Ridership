{
 "cells": [
  {
   "cell_type": "code",
   "id": "initial_id",
   "metadata": {
    "collapsed": true,
    "ExecuteTime": {
     "end_time": "2025-05-01T21:25:13.244980Z",
     "start_time": "2025-05-01T21:25:11.985501Z"
    }
   },
   "source": [
    "import numpy as np\n",
    "import pandas as pd\n",
    "import matplotlib as plt\n",
    "import pyspark as sp\n",
    "from pyspark.sql.functions import col, year, to_timestamp, sum as _sum, desc, date_format, countDistinct, collect_set, round, first\n",
    "from pyspark.sql import Row"
   ],
   "outputs": [],
   "execution_count": 1
  },
  {
   "metadata": {
    "ExecuteTime": {
     "end_time": "2025-05-01T21:26:03.194390Z",
     "start_time": "2025-05-01T21:25:43.221570Z"
    }
   },
   "cell_type": "code",
   "source": "spark = sp.sql.SparkSession.builder.appName(\"Merging Weather\").master(\"local[4]\").config(\"spark.driver.memory\", \"6g\").config(\"spark.executor.memory\", \"4g\").config(\"spark.network.timeout\", \"600s\").config(\"spark.executor.heartbeatInterval\", \"60s\").getOrCreate()",
   "id": "67dd2fdfa62e0961",
   "outputs": [],
   "execution_count": 2
  },
  {
   "metadata": {
    "ExecuteTime": {
     "end_time": "2025-05-01T21:26:19.254145Z",
     "start_time": "2025-05-01T21:26:15.198948Z"
    }
   },
   "cell_type": "code",
   "source": "df = spark.read.parquet(\"D:/data/top20_mta_data_1\")",
   "id": "709661189c1ca70c",
   "outputs": [],
   "execution_count": 3
  },
  {
   "metadata": {
    "ExecuteTime": {
     "end_time": "2025-05-01T21:28:43.585897Z",
     "start_time": "2025-05-01T21:28:43.570790Z"
    }
   },
   "cell_type": "code",
   "source": "df.printSchema()",
   "id": "37c271d81369d56b",
   "outputs": [
    {
     "name": "stdout",
     "output_type": "stream",
     "text": [
      "root\n",
      " |-- station_complex: string (nullable = true)\n",
      " |-- transit_timestamp: string (nullable = true)\n",
      " |-- station_complex_id: string (nullable = true)\n",
      " |-- payment_method: string (nullable = true)\n",
      " |-- fare_class_category: string (nullable = true)\n",
      " |-- ridership: integer (nullable = true)\n",
      " |-- transfers: integer (nullable = true)\n",
      " |-- Georeference: string (nullable = true)\n",
      " |-- transit_mode: string (nullable = true)\n",
      " |-- borough: string (nullable = true)\n",
      " |-- timestamp: timestamp (nullable = true)\n",
      " |-- year: integer (nullable = true)\n",
      " |-- longitude: double (nullable = true)\n",
      " |-- latitude: double (nullable = true)\n",
      "\n"
     ]
    }
   ],
   "execution_count": 5
  },
  {
   "metadata": {
    "ExecuteTime": {
     "end_time": "2025-05-01T21:28:48.780196Z",
     "start_time": "2025-05-01T21:28:45.935893Z"
    }
   },
   "cell_type": "code",
   "source": "df.select([_sum(col(c).isNull().cast(\"int\")).alias(c) for c in df.columns]).show()",
   "id": "a0891353575dbb81",
   "outputs": [
    {
     "name": "stdout",
     "output_type": "stream",
     "text": [
      "+---------------+-----------------+------------------+--------------+-------------------+---------+---------+------------+------------+-------+---------+----+---------+--------+\n",
      "|station_complex|transit_timestamp|station_complex_id|payment_method|fare_class_category|ridership|transfers|Georeference|transit_mode|borough|timestamp|year|longitude|latitude|\n",
      "+---------------+-----------------+------------------+--------------+-------------------+---------+---------+------------+------------+-------+---------+----+---------+--------+\n",
      "|              0|                0|                 0|             0|                  0|        0|        0|           0|           0|      0|        0|   0|        0|       0|\n",
      "+---------------+-----------------+------------------+--------------+-------------------+---------+---------+------------+------------+-------+---------+----+---------+--------+\n",
      "\n"
     ]
    }
   ],
   "execution_count": 6
  },
  {
   "metadata": {
    "ExecuteTime": {
     "end_time": "2025-05-01T21:29:34.918845Z",
     "start_time": "2025-05-01T21:29:34.299120Z"
    }
   },
   "cell_type": "code",
   "source": [
    "df_weather2023 = spark.read.csv(\"D:/data/subway_weather_2023.csv\", header=True)\n",
    "df_weather2023.printSchema()\n",
    "df_weather2024 = spark.read.csv(\"D:/data/subway_weather_2024.csv\", header=True)\n",
    "df_weather2024.printSchema()"
   ],
   "id": "2c6b1222bf2cbb7b",
   "outputs": [
    {
     "name": "stdout",
     "output_type": "stream",
     "text": [
      "root\n",
      " |-- time: string (nullable = true)\n",
      " |-- temperature_C: string (nullable = true)\n",
      " |-- precipitation_mm: string (nullable = true)\n",
      " |-- humidity_%: string (nullable = true)\n",
      " |-- station_id: string (nullable = true)\n",
      " |-- latitude: string (nullable = true)\n",
      " |-- longitude: string (nullable = true)\n",
      "\n",
      "root\n",
      " |-- time: string (nullable = true)\n",
      " |-- temperature_C: string (nullable = true)\n",
      " |-- precipitation_mm: string (nullable = true)\n",
      " |-- humidity_%: string (nullable = true)\n",
      " |-- station_id: string (nullable = true)\n",
      " |-- latitude: string (nullable = true)\n",
      " |-- longitude: string (nullable = true)\n",
      "\n"
     ]
    }
   ],
   "execution_count": 7
  },
  {
   "metadata": {
    "ExecuteTime": {
     "end_time": "2025-05-01T21:32:21.325429Z",
     "start_time": "2025-05-01T21:32:21.295852Z"
    }
   },
   "cell_type": "code",
   "source": "df.drop(\"timestamp\", \"year\")",
   "id": "52091a61938013ed",
   "outputs": [
    {
     "data": {
      "text/plain": [
       "DataFrame[station_complex: string, transit_timestamp: string, station_complex_id: string, payment_method: string, fare_class_category: string, ridership: int, transfers: int, Georeference: string, transit_mode: string, borough: string, longitude: double, latitude: double]"
      ]
     },
     "execution_count": 8,
     "metadata": {},
     "output_type": "execute_result"
    }
   ],
   "execution_count": 8
  },
  {
   "metadata": {
    "ExecuteTime": {
     "end_time": "2025-05-01T21:32:50.169026Z",
     "start_time": "2025-05-01T21:32:49.858924Z"
    }
   },
   "cell_type": "code",
   "source": [
    "df_weather2023 = df_weather2023.withColumn(\"timestamp_temp\", to_timestamp(\"time\", \"yyyy-MM-dd'T'HH:mm\"))\n",
    "df_weather2023 = df_weather2023.withColumn(\"transit_timestamp\", date_format(\"timestamp_temp\", \"MM/dd/yyyy hh:mm:ss a\"))\n",
    "df_weather2023.show(10)"
   ],
   "id": "f9bee2e654b00151",
   "outputs": [
    {
     "name": "stdout",
     "output_type": "stream",
     "text": [
      "+----------------+-------------+----------------+----------+----------+---------+----------+-------------------+--------------------+\n",
      "|            time|temperature_C|precipitation_mm|humidity_%|station_id| latitude| longitude|     timestamp_temp|   transit_timestamp|\n",
      "+----------------+-------------+----------------+----------+----------+---------+----------+-------------------+--------------------+\n",
      "|2023-01-01T00:00|         10.5|             1.2|        99|         1|40.751778|-73.976845|2023-01-01 00:00:00|01/01/2023 12:00:...|\n",
      "|2023-01-01T01:00|         10.1|             1.2|        99|         1|40.751778|-73.976845|2023-01-01 01:00:00|01/01/2023 01:00:...|\n",
      "|2023-01-01T02:00|         10.0|             0.2|        98|         1|40.751778|-73.976845|2023-01-01 02:00:00|01/01/2023 02:00:...|\n",
      "|2023-01-01T03:00|         10.1|             0.0|        96|         1|40.751778|-73.976845|2023-01-01 03:00:00|01/01/2023 03:00:...|\n",
      "|2023-01-01T04:00|          9.5|             0.0|        94|         1|40.751778|-73.976845|2023-01-01 04:00:00|01/01/2023 04:00:...|\n",
      "|2023-01-01T05:00|          8.9|             0.0|        92|         1|40.751778|-73.976845|2023-01-01 05:00:00|01/01/2023 05:00:...|\n",
      "|2023-01-01T06:00|          8.4|             0.0|        91|         1|40.751778|-73.976845|2023-01-01 06:00:00|01/01/2023 06:00:...|\n",
      "|2023-01-01T07:00|          7.6|             0.0|        92|         1|40.751778|-73.976845|2023-01-01 07:00:00|01/01/2023 07:00:...|\n",
      "|2023-01-01T08:00|          7.3|             0.0|        95|         1|40.751778|-73.976845|2023-01-01 08:00:00|01/01/2023 08:00:...|\n",
      "|2023-01-01T09:00|          7.9|             0.0|        94|         1|40.751778|-73.976845|2023-01-01 09:00:00|01/01/2023 09:00:...|\n",
      "+----------------+-------------+----------------+----------+----------+---------+----------+-------------------+--------------------+\n",
      "only showing top 10 rows\n",
      "\n"
     ]
    }
   ],
   "execution_count": 9
  },
  {
   "metadata": {
    "ExecuteTime": {
     "end_time": "2025-05-01T21:33:11.033041Z",
     "start_time": "2025-05-01T21:33:10.869235Z"
    }
   },
   "cell_type": "code",
   "source": [
    "df_weather2024 = df_weather2024.withColumn(\"timestamp_temp\", to_timestamp(\"time\", \"yyyy-MM-dd'T'HH:mm\"))\n",
    "df_weather2024 = df_weather2024.withColumn(\"transit_timestamp\", date_format(\"timestamp_temp\", \"MM/dd/yyyy hh:mm:ss a\"))\n",
    "df_weather2024.show(10)"
   ],
   "id": "b5ab74151b5ba137",
   "outputs": [
    {
     "name": "stdout",
     "output_type": "stream",
     "text": [
      "+----------------+-------------+----------------+----------+----------+---------+----------+-------------------+--------------------+\n",
      "|            time|temperature_C|precipitation_mm|humidity_%|station_id| latitude| longitude|     timestamp_temp|   transit_timestamp|\n",
      "+----------------+-------------+----------------+----------+----------+---------+----------+-------------------+--------------------+\n",
      "|2024-01-01T00:00|          1.3|             0.1|        79|         1|40.751778|-73.976845|2024-01-01 00:00:00|01/01/2024 12:00:...|\n",
      "|2024-01-01T01:00|          0.8|             0.0|        81|         1|40.751778|-73.976845|2024-01-01 01:00:00|01/01/2024 01:00:...|\n",
      "|2024-01-01T02:00|          1.9|             0.0|        79|         1|40.751778|-73.976845|2024-01-01 02:00:00|01/01/2024 02:00:...|\n",
      "|2024-01-01T03:00|          2.2|             0.0|        79|         1|40.751778|-73.976845|2024-01-01 03:00:00|01/01/2024 03:00:...|\n",
      "|2024-01-01T04:00|          2.2|             0.0|        79|         1|40.751778|-73.976845|2024-01-01 04:00:00|01/01/2024 04:00:...|\n",
      "|2024-01-01T05:00|          0.7|             0.0|        87|         1|40.751778|-73.976845|2024-01-01 05:00:00|01/01/2024 05:00:...|\n",
      "|2024-01-01T06:00|         -0.1|             0.0|        90|         1|40.751778|-73.976845|2024-01-01 06:00:00|01/01/2024 06:00:...|\n",
      "|2024-01-01T07:00|          0.6|             0.0|        90|         1|40.751778|-73.976845|2024-01-01 07:00:00|01/01/2024 07:00:...|\n",
      "|2024-01-01T08:00|          1.3|             0.0|        88|         1|40.751778|-73.976845|2024-01-01 08:00:00|01/01/2024 08:00:...|\n",
      "|2024-01-01T09:00|          2.7|             0.0|        83|         1|40.751778|-73.976845|2024-01-01 09:00:00|01/01/2024 09:00:...|\n",
      "+----------------+-------------+----------------+----------+----------+---------+----------+-------------------+--------------------+\n",
      "only showing top 10 rows\n",
      "\n"
     ]
    }
   ],
   "execution_count": 10
  },
  {
   "metadata": {
    "ExecuteTime": {
     "end_time": "2025-05-01T21:33:27.730470Z",
     "start_time": "2025-05-01T21:33:27.599445Z"
    }
   },
   "cell_type": "code",
   "source": "df_weather2023.select(\"transit_timestamp\").show(2, truncate=False)",
   "id": "76c23398bada2e61",
   "outputs": [
    {
     "name": "stdout",
     "output_type": "stream",
     "text": [
      "+----------------------+\n",
      "|transit_timestamp     |\n",
      "+----------------------+\n",
      "|01/01/2023 12:00:00 AM|\n",
      "|01/01/2023 01:00:00 AM|\n",
      "+----------------------+\n",
      "only showing top 2 rows\n",
      "\n"
     ]
    }
   ],
   "execution_count": 11
  },
  {
   "metadata": {
    "ExecuteTime": {
     "end_time": "2025-05-01T21:34:46.608569Z",
     "start_time": "2025-05-01T21:34:46.587367Z"
    }
   },
   "cell_type": "code",
   "source": [
    "df_weather = df_weather2023.union(df_weather2024)\n",
    "df_weather.drop(\"time\")\n",
    "df_weather.printSchema()"
   ],
   "id": "66737439d35d7a95",
   "outputs": [
    {
     "name": "stdout",
     "output_type": "stream",
     "text": [
      "root\n",
      " |-- time: string (nullable = true)\n",
      " |-- temperature_C: string (nullable = true)\n",
      " |-- precipitation_mm: string (nullable = true)\n",
      " |-- humidity_%: string (nullable = true)\n",
      " |-- station_id: string (nullable = true)\n",
      " |-- latitude: string (nullable = true)\n",
      " |-- longitude: string (nullable = true)\n",
      " |-- timestamp_temp: timestamp (nullable = true)\n",
      " |-- transit_timestamp: string (nullable = true)\n",
      "\n"
     ]
    }
   ],
   "execution_count": 14
  },
  {
   "metadata": {
    "ExecuteTime": {
     "end_time": "2025-05-01T21:34:53.544501Z",
     "start_time": "2025-05-01T21:34:53.522913Z"
    }
   },
   "cell_type": "code",
   "source": [
    "df_weather.drop(\"time\")\n",
    "df_weather.printSchema()"
   ],
   "id": "2b0eb957df57a40c",
   "outputs": [
    {
     "name": "stdout",
     "output_type": "stream",
     "text": [
      "root\n",
      " |-- time: string (nullable = true)\n",
      " |-- temperature_C: string (nullable = true)\n",
      " |-- precipitation_mm: string (nullable = true)\n",
      " |-- humidity_%: string (nullable = true)\n",
      " |-- station_id: string (nullable = true)\n",
      " |-- latitude: string (nullable = true)\n",
      " |-- longitude: string (nullable = true)\n",
      " |-- timestamp_temp: timestamp (nullable = true)\n",
      " |-- transit_timestamp: string (nullable = true)\n",
      "\n"
     ]
    }
   ],
   "execution_count": 15
  },
  {
   "metadata": {
    "ExecuteTime": {
     "end_time": "2025-05-01T21:35:18.787987Z",
     "start_time": "2025-05-01T21:35:18.768071Z"
    }
   },
   "cell_type": "code",
   "source": "df.printSchema()",
   "id": "d5392dccac8aa11a",
   "outputs": [
    {
     "name": "stdout",
     "output_type": "stream",
     "text": [
      "root\n",
      " |-- station_complex: string (nullable = true)\n",
      " |-- transit_timestamp: string (nullable = true)\n",
      " |-- station_complex_id: string (nullable = true)\n",
      " |-- payment_method: string (nullable = true)\n",
      " |-- fare_class_category: string (nullable = true)\n",
      " |-- ridership: integer (nullable = true)\n",
      " |-- transfers: integer (nullable = true)\n",
      " |-- Georeference: string (nullable = true)\n",
      " |-- transit_mode: string (nullable = true)\n",
      " |-- borough: string (nullable = true)\n",
      " |-- timestamp: timestamp (nullable = true)\n",
      " |-- year: integer (nullable = true)\n",
      " |-- longitude: double (nullable = true)\n",
      " |-- latitude: double (nullable = true)\n",
      "\n"
     ]
    }
   ],
   "execution_count": 16
  },
  {
   "metadata": {
    "ExecuteTime": {
     "end_time": "2025-05-01T21:43:10.743825Z",
     "start_time": "2025-05-01T21:43:06.261057Z"
    }
   },
   "cell_type": "code",
   "source": [
    "# Create aliases for both DataFrames\n",
    "df_main = df.alias(\"main\")\n",
    "df_weather_renamed = df_weather.selectExpr(\n",
    "    \"longitude as weather_longitude\",\n",
    "    \"latitude as weather_latitude\",\n",
    "    \"transit_timestamp as weather_transit_timestamp\",\n",
    "    \"temperature_C\",\n",
    "    \"precipitation_mm\",\n",
    "    \"`humidity_%`\"  # Escape special character using backticks\n",
    ").alias(\"weather\")\n",
    "\n",
    "# Join using the original columns\n",
    "joined_df = df_main.join(\n",
    "    df_weather_renamed,\n",
    "    (col(\"main.longitude\") == col(\"weather.weather_longitude\")) &\n",
    "    (col(\"main.latitude\") == col(\"weather.weather_latitude\")) &\n",
    "    (col(\"main.transit_timestamp\") == col(\"weather.weather_transit_timestamp\")),\n",
    "    how=\"left\"\n",
    ")\n",
    "\n",
    "# Show the joined result\n",
    "joined_df.show(truncate=False)"
   ],
   "id": "774990d1aa610330",
   "outputs": [
    {
     "name": "stdout",
     "output_type": "stream",
     "text": [
      "+--------------------------------------------------+----------------------+------------------+--------------+--------------------------------+---------+---------+----------------------------+------------+---------+-------------------+----+----------+---------+-----------------+----------------+-------------------------+-------------+----------------+----------+\n",
      "|station_complex                                   |transit_timestamp     |station_complex_id|payment_method|fare_class_category             |ridership|transfers|Georeference                |transit_mode|borough  |timestamp          |year|longitude |latitude |weather_longitude|weather_latitude|weather_transit_timestamp|temperature_C|precipitation_mm|humidity_%|\n",
      "+--------------------------------------------------+----------------------+------------------+--------------+--------------------------------+---------+---------+----------------------------+------------+---------+-------------------+----+----------+---------+-----------------+----------------+-------------------------+-------------+----------------+----------+\n",
      "|34 St-Penn Station (A,C,E)                        |03/09/2024 03:00:00 AM|164               |metrocard     |Metrocard - Other               |11       |0        |POINT (-73.99339 40.75229)  |subway      |Manhattan|2024-03-09 03:00:00|2024|-73.99339 |40.75229 |-73.99339        |40.75229        |03/09/2024 03:00:00 AM   |3.6          |0.0             |85        |\n",
      "|34 St-Herald Sq (B,D,F,M,N,Q,R,W)                 |09/08/2024 09:00:00 AM|607               |metrocard     |Metrocard - Fair Fare           |17       |0        |POINT (-73.98782 40.749718) |subway      |Manhattan|2024-09-08 09:00:00|2024|-73.98782 |40.749718|-73.98782        |40.749718       |09/08/2024 09:00:00 AM   |14.8         |0.0             |61        |\n",
      "|Times Sq-42 St (N,Q,R,W,S,1,2,3,7)/42 St (A,C,E)  |05/04/2024 11:00:00 AM|611               |metrocard     |Metrocard - Full Fare           |845      |4        |POINT (-73.986755 40.75731) |subway      |Manhattan|2024-05-04 11:00:00|2024|-73.986755|40.75731 |-73.986755       |40.75731        |05/04/2024 11:00:00 AM   |15.9         |0.0             |56        |\n",
      "|Atlantic Av-Barclays Ctr (B,D,N,Q,R,2,3,4,5)      |03/09/2024 08:00:00 AM|617               |omny          |OMNY - Seniors & Disability     |1        |0        |POINT (-73.97881 40.683666) |subway      |Brooklyn |2024-03-09 08:00:00|2024|-73.97767 |40.68436 |-73.97767        |40.68436        |03/09/2024 08:00:00 AM   |4.2          |0.0             |78        |\n",
      "|Atlantic Av-Barclays Ctr (B,D,N,Q,R,2,3,4,5)      |05/04/2024 12:00:00 PM|617               |metrocard     |Metrocard - Seniors & Disability|61       |5        |POINT (-73.97689 40.68446)  |subway      |Brooklyn |2024-05-04 12:00:00|2024|-73.97767 |40.68436 |-73.97767        |40.68436        |05/04/2024 12:00:00 PM   |14.9         |0.0             |59        |\n",
      "|Crown Hts-Utica Av (3,4)                          |03/09/2024 12:00:00 PM|345               |omny          |OMNY - Full Fare                |297      |19       |POINT (-73.932945 40.668896)|subway      |Brooklyn |2024-03-09 12:00:00|2024|-73.932945|40.668896|-73.932945       |40.668896       |03/09/2024 12:00:00 PM   |5.7          |0.0             |75        |\n",
      "|Crown Hts-Utica Av (3,4)                          |05/04/2024 06:00:00 AM|345               |metrocard     |Metrocard - Seniors & Disability|20       |5        |POINT (-73.932945 40.668896)|subway      |Brooklyn |2024-05-04 06:00:00|2024|-73.932945|40.668896|-73.932945       |40.668896       |05/04/2024 06:00:00 AM   |7.7          |0.0             |95        |\n",
      "|Crown Hts-Utica Av (3,4)                          |09/08/2024 12:00:00 PM|345               |metrocard     |Metrocard - Other               |33       |0        |POINT (-73.932945 40.668896)|subway      |Brooklyn |2024-09-08 12:00:00|2024|-73.932945|40.668896|-73.932945       |40.668896       |09/08/2024 12:00:00 PM   |18.5         |0.0             |45        |\n",
      "|Crown Hts-Utica Av (3,4)                          |09/08/2024 12:00:00 PM|345               |metrocard     |Metrocard - Unlimited 30-Day    |53       |0        |POINT (-73.932945 40.668896)|subway      |Brooklyn |2024-09-08 12:00:00|2024|-73.932945|40.668896|-73.932945       |40.668896       |09/08/2024 12:00:00 PM   |18.5         |0.0             |45        |\n",
      "|161 St-Yankee Stadium (B,D,4)                     |05/04/2024 10:00:00 AM|604               |metrocard     |Metrocard - Other               |25       |0        |POINT (-73.92565 40.827995) |subway      |Bronx    |2024-05-04 10:00:00|2024|-73.925835|40.827995|-73.925835       |40.827995       |05/04/2024 10:00:00 AM   |14.5         |0.0             |64        |\n",
      "|3 Av-149 St (2,5)                                 |05/04/2024 11:00:00 AM|434               |metrocard     |Metrocard - Unlimited 7-Day     |92       |0        |POINT (-73.917755 40.81611) |subway      |Bronx    |2024-05-04 11:00:00|2024|-73.917755|40.81611 |-73.917755       |40.81611        |05/04/2024 11:00:00 AM   |16.2         |0.0             |59        |\n",
      "|Fordham Rd (4)                                    |09/08/2024 07:00:00 AM|382               |metrocard     |Metrocard - Other               |6        |0        |POINT (-73.90103 40.862804) |subway      |Bronx    |2024-09-08 07:00:00|2024|-73.90103 |40.862804|-73.90103        |40.862804       |09/08/2024 07:00:00 AM   |11.2         |0.0             |84        |\n",
      "|74-Broadway (7)/Jackson Hts-Roosevelt Av (E,F,M,R)|09/08/2024 02:00:00 AM|616               |metrocard     |Metrocard - Unlimited 7-Day     |27       |0        |POINT (-73.891335 40.74685) |subway      |Queens   |2024-09-08 02:00:00|2024|-73.891335|40.74685 |-73.891335       |40.74685        |09/08/2024 02:00:00 AM   |14.5         |0.0             |90        |\n",
      "|74-Broadway (7)/Jackson Hts-Roosevelt Av (E,F,M,R)|09/08/2024 12:00:00 PM|616               |omny          |OMNY - Other                    |3        |0        |POINT (-73.891335 40.746643)|subway      |Queens   |2024-09-08 12:00:00|2024|-73.891335|40.74685 |-73.891335       |40.74685        |09/08/2024 12:00:00 PM   |18.5         |0.0             |45        |\n",
      "|Hunts Point Av (6)                                |09/08/2024 08:00:00 AM|371               |omny          |OMNY - Full Fare                |93       |7        |POINT (-73.89055 40.82095)  |subway      |Bronx    |2024-09-08 08:00:00|2024|-73.89055 |40.82095 |-73.89055        |40.82095        |09/08/2024 08:00:00 AM   |12.8         |0.0             |77        |\n",
      "|103 St-Corona Plaza (7)                           |09/08/2024 11:00:00 AM|450               |metrocard     |Metrocard - Unlimited 7-Day     |185      |0        |POINT (-73.8627 40.749866)  |subway      |Queens   |2024-09-08 11:00:00|2024|-73.8627  |40.749866|-73.8627         |40.749866       |09/08/2024 11:00:00 AM   |17.4         |0.0             |46        |\n",
      "|Parkchester (6)                                   |02/10/2024 03:00:00 AM|366               |metrocard     |Metrocard - Other               |2        |0        |POINT (-73.86082 40.833225) |subway      |Bronx    |2024-02-10 03:00:00|2024|-73.86082 |40.833225|-73.86082        |40.833225       |02/10/2024 03:00:00 AM   |2.6          |0.0             |91        |\n",
      "|Flushing-Main St (7)                              |05/04/2024 03:00:00 AM|447               |metrocard     |Metrocard - Seniors & Disability|1        |0        |POINT (-73.83003 40.7596)   |subway      |Queens   |2024-05-04 03:00:00|2024|-73.83003 |40.7596  |-73.83003        |40.7596         |05/04/2024 03:00:00 AM   |7.5          |0.0             |97        |\n",
      "|Flushing-Main St (7)                              |05/04/2024 05:00:00 AM|447               |omny          |OMNY - Full Fare                |185      |88       |POINT (-73.83003 40.7596)   |subway      |Queens   |2024-05-04 05:00:00|2024|-73.83003 |40.7596  |-73.83003        |40.7596         |05/04/2024 05:00:00 AM   |7.3          |0.0             |97        |\n",
      "|Jamaica Center-Parsons/Archer (E,J,Z)             |03/09/2024 06:00:00 AM|278               |metrocard     |Metrocard - Unlimited 7-Day     |93       |0        |POINT (-73.80111 40.70215)  |subway      |Queens   |2024-03-09 06:00:00|2024|-73.80111 |40.70215 |-73.80111        |40.70215        |03/09/2024 06:00:00 AM   |3.9          |0.0             |80        |\n",
      "+--------------------------------------------------+----------------------+------------------+--------------+--------------------------------+---------+---------+----------------------------+------------+---------+-------------------+----+----------+---------+-----------------+----------------+-------------------------+-------------+----------------+----------+\n",
      "only showing top 20 rows\n",
      "\n"
     ]
    }
   ],
   "execution_count": 18
  },
  {
   "metadata": {
    "ExecuteTime": {
     "end_time": "2025-05-01T21:47:24.485992Z",
     "start_time": "2025-05-01T21:47:16.730211Z"
    }
   },
   "cell_type": "code",
   "source": "joined_df.write.mode(\"overwrite\").option(\"compression\", \"snappy\").parquet(\"D:/data/mta_top20_joined_1\")",
   "id": "623645ef146fc859",
   "outputs": [],
   "execution_count": 19
  },
  {
   "metadata": {
    "ExecuteTime": {
     "end_time": "2025-05-01T21:53:13.389485Z",
     "start_time": "2025-05-01T21:53:13.376313Z"
    }
   },
   "cell_type": "code",
   "source": [
    "joined_df = joined_df.drop(\"weather_longitude\", \"weather_latitude\", \"weather_transit_timestamp\", \"timestamp\", \"year\", \"Georeference\")\n",
    "joined_df.printSchema()"
   ],
   "id": "6f1df6716b80ab4a",
   "outputs": [
    {
     "name": "stdout",
     "output_type": "stream",
     "text": [
      "root\n",
      " |-- station_complex: string (nullable = true)\n",
      " |-- transit_timestamp: string (nullable = true)\n",
      " |-- station_complex_id: string (nullable = true)\n",
      " |-- payment_method: string (nullable = true)\n",
      " |-- fare_class_category: string (nullable = true)\n",
      " |-- ridership: integer (nullable = true)\n",
      " |-- transfers: integer (nullable = true)\n",
      " |-- transit_mode: string (nullable = true)\n",
      " |-- borough: string (nullable = true)\n",
      " |-- longitude: double (nullable = true)\n",
      " |-- latitude: double (nullable = true)\n",
      " |-- temperature_C: string (nullable = true)\n",
      " |-- precipitation_mm: string (nullable = true)\n",
      " |-- humidity_%: string (nullable = true)\n",
      "\n"
     ]
    }
   ],
   "execution_count": 25
  },
  {
   "metadata": {
    "ExecuteTime": {
     "end_time": "2025-05-01T21:53:28.046833Z",
     "start_time": "2025-05-01T21:53:22.092258Z"
    }
   },
   "cell_type": "code",
   "source": "joined_df.write.mode(\"overwrite\").option(\"compression\", \"snappy\").parquet(\"D:/data/mta_top20_joined_1\")",
   "id": "5d4324ed6855218f",
   "outputs": [],
   "execution_count": 26
  },
  {
   "metadata": {},
   "cell_type": "code",
   "outputs": [],
   "execution_count": null,
   "source": "",
   "id": "e01bbdb6a4d7f619"
  }
 ],
 "metadata": {
  "kernelspec": {
   "display_name": "Python 3",
   "language": "python",
   "name": "python3"
  },
  "language_info": {
   "codemirror_mode": {
    "name": "ipython",
    "version": 2
   },
   "file_extension": ".py",
   "mimetype": "text/x-python",
   "name": "python",
   "nbconvert_exporter": "python",
   "pygments_lexer": "ipython2",
   "version": "2.7.6"
  }
 },
 "nbformat": 4,
 "nbformat_minor": 5
}
