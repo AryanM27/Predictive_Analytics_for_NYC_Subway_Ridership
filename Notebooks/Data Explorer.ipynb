{
 "cells": [
  {
   "metadata": {
    "ExecuteTime": {
     "end_time": "2025-04-24T23:09:04.031335Z",
     "start_time": "2025-04-24T23:09:04.010489Z"
    }
   },
   "cell_type": "code",
   "source": [
    "from pyspark.sql import SparkSession\n",
    "from pyspark.sql.functions import col, year, to_timestamp, sum as _sum, desc"
   ],
   "id": "a516b1f068545893",
   "outputs": [],
   "execution_count": 28
  },
  {
   "metadata": {
    "ExecuteTime": {
     "end_time": "2025-04-24T22:42:30.496444Z",
     "start_time": "2025-04-24T22:42:12.587142Z"
    }
   },
   "cell_type": "code",
   "source": [
    "# Start Spark session\n",
    "spark = SparkSession.builder.appName(\"MTA Busiest Stations 2023-2024\").config(\"spark.driver.memory\", \"8g\").getOrCreate()\n",
    "\n",
    "# Read the Parquet data\n",
    "df = spark.read.parquet(\"D:/data/mta_hourly\")"
   ],
   "id": "33edf79e75b2513b",
   "outputs": [],
   "execution_count": 2
  },
  {
   "metadata": {
    "ExecuteTime": {
     "end_time": "2025-04-24T23:01:31.242330Z",
     "start_time": "2025-04-24T23:01:31.195034Z"
    }
   },
   "cell_type": "code",
   "source": [
    "# Convert timestamp string to actual timestamp\n",
    "df = df.withColumn(\"timestamp\", to_timestamp(col(\"transit_timestamp\"), \"MM/dd/yyyy HH:mm:ss a\"))\n",
    "\n",
    "# Extract year from timestamp\n",
    "df = df.withColumn(\"year\", year(col(\"timestamp\")))\n",
    "\n",
    "# Filter for 2023 and 2024\n",
    "df_filtered = df.filter(col(\"year\").isin(2023, 2024))"
   ],
   "id": "5492c0a47e1c4cac",
   "outputs": [],
   "execution_count": 24
  },
  {
   "metadata": {
    "ExecuteTime": {
     "end_time": "2025-04-24T23:04:29.989733Z",
     "start_time": "2025-04-24T23:01:32.124351Z"
    }
   },
   "cell_type": "code",
   "source": [
    "# Group by station and aggregate total ridership\n",
    "df_grouped = df_filtered.groupBy(\"station_complex\").agg(\n",
    "    _sum(\"ridership\").alias(\"total_ridership\")\n",
    ")\n",
    "\n",
    "# Sort and select top 10\n",
    "top_10 = df_grouped.orderBy(col(\"total_ridership\").desc()).limit(10)\n",
    "\n",
    "# Show result\n",
    "top_10.show(truncate=False)"
   ],
   "id": "bc08c1b05a3fe2c7",
   "outputs": [
    {
     "name": "stdout",
     "output_type": "stream",
     "text": [
      "+--------------------------------------------------+---------------+\n",
      "|station_complex                                   |total_ridership|\n",
      "+--------------------------------------------------+---------------+\n",
      "|Times Sq-42 St (N,Q,R,W,S,1,2,3,7)/42 St (A,C,E)  |32358463       |\n",
      "|Grand Central-42 St (S,4,5,6,7)                   |21720564       |\n",
      "|74-Broadway (7)/Jackson Hts-Roosevelt Av (E,F,M,R)|15294219       |\n",
      "|Flushing-Main St (7)                              |14739922       |\n",
      "|34 St-Penn Station (A,C,E)                        |14328644       |\n",
      "|34 St-Penn Station (1,2,3)                        |14170110       |\n",
      "|34 St-Herald Sq (B,D,F,M,N,Q,R,W)                 |12755374       |\n",
      "|Fulton St (A,C,J,Z,2,3,4,5)                       |10585567       |\n",
      "|14 St-Union Sq (L,N,Q,R,W,4,5,6)                  |9634957        |\n",
      "|Junction Blvd (7)                                 |8088005        |\n",
      "+--------------------------------------------------+---------------+\n",
      "\n"
     ]
    }
   ],
   "execution_count": 25
  },
  {
   "metadata": {
    "ExecuteTime": {
     "end_time": "2025-04-24T23:11:35.320169Z",
     "start_time": "2025-04-24T23:09:06.670894Z"
    }
   },
   "cell_type": "code",
   "source": [
    "df_grouped_1 = df_filtered.groupBy(\"borough\", \"station_complex\").agg(_sum(\"ridership\").alias(\"total_ridership\"))\n",
    "boroughs = [\"Brooklyn\", \"Manhattan\", \"Queens\"]\n",
    "\n",
    "for b in boroughs:\n",
    "    print(f\"\\nTop 5 stations in {b}:\")\n",
    "    df_grouped_1.filter(col(\"borough\") == b).orderBy(desc(\"total_ridership\")).limit(5).show(truncate=False)"
   ],
   "id": "2676f892c6e869a",
   "outputs": [
    {
     "name": "stdout",
     "output_type": "stream",
     "text": [
      "\n",
      "Top 5 stations in Brooklyn:\n",
      "+--------+--------------------------------------------+---------------+\n",
      "|borough |station_complex                             |total_ridership|\n",
      "+--------+--------------------------------------------+---------------+\n",
      "|Brooklyn|Atlantic Av-Barclays Ctr (B,D,N,Q,R,2,3,4,5)|6874259        |\n",
      "|Brooklyn|Crown Hts-Utica Av (3,4)                    |6385979        |\n",
      "|Brooklyn|Bedford Av (L)                              |6099672        |\n",
      "|Brooklyn|Myrtle-Wyckoff Avs (L,M)                    |5746788        |\n",
      "|Brooklyn|Kings Hwy (B,Q)                             |4933015        |\n",
      "+--------+--------------------------------------------+---------------+\n",
      "\n",
      "\n",
      "Top 5 stations in Manhattan:\n",
      "+---------+------------------------------------------------+---------------+\n",
      "|borough  |station_complex                                 |total_ridership|\n",
      "+---------+------------------------------------------------+---------------+\n",
      "|Manhattan|Times Sq-42 St (N,Q,R,W,S,1,2,3,7)/42 St (A,C,E)|32358463       |\n",
      "|Manhattan|Grand Central-42 St (S,4,5,6,7)                 |21720564       |\n",
      "|Manhattan|34 St-Penn Station (A,C,E)                      |14328644       |\n",
      "|Manhattan|34 St-Penn Station (1,2,3)                      |14170110       |\n",
      "|Manhattan|34 St-Herald Sq (B,D,F,M,N,Q,R,W)               |12755374       |\n",
      "+---------+------------------------------------------------+---------------+\n",
      "\n",
      "\n",
      "Top 5 stations in Queens:\n",
      "+-------+--------------------------------------------------+---------------+\n",
      "|borough|station_complex                                   |total_ridership|\n",
      "+-------+--------------------------------------------------+---------------+\n",
      "|Queens |74-Broadway (7)/Jackson Hts-Roosevelt Av (E,F,M,R)|15294219       |\n",
      "|Queens |Flushing-Main St (7)                              |14739922       |\n",
      "|Queens |Junction Blvd (7)                                 |8088005        |\n",
      "|Queens |103 St-Corona Plaza (7)                           |8069754        |\n",
      "|Queens |Jamaica Center-Parsons/Archer (E,J,Z)             |7273842        |\n",
      "+-------+--------------------------------------------------+---------------+\n",
      "\n"
     ]
    }
   ],
   "execution_count": 29
  },
  {
   "metadata": {
    "ExecuteTime": {
     "end_time": "2025-04-24T23:36:16.206319Z",
     "start_time": "2025-04-24T23:30:37.050641Z"
    }
   },
   "cell_type": "code",
   "source": [
    "top_10.write.mode(\"overwrite\").csv(\"D:/data/top10_mta\", header=True)\n",
    "\n",
    "for b in boroughs:\n",
    "    top5_df = df_grouped_1.filter(col(\"borough\") == b) \\\n",
    "                          .orderBy(desc(\"total_ridership\")) \\\n",
    "                          .limit(5)\n",
    "\n",
    "    path = f\"D:/data/top5_{b.lower().replace(' ', '_')}_stations\"\n",
    "    top5_df.write.mode(\"overwrite\").csv(path, header=True)\n"
   ],
   "id": "99e1b6ee39746fe0",
   "outputs": [],
   "execution_count": 31
  },
  {
   "metadata": {
    "ExecuteTime": {
     "end_time": "2025-04-24T23:36:38.872550Z",
     "start_time": "2025-04-24T23:36:38.458956Z"
    }
   },
   "cell_type": "code",
   "source": "spark.stop()",
   "id": "c88b86a5950862e8",
   "outputs": [],
   "execution_count": 32
  },
  {
   "metadata": {},
   "cell_type": "code",
   "outputs": [],
   "execution_count": null,
   "source": "",
   "id": "3ca9c4ed19274536"
  }
 ],
 "metadata": {
  "kernelspec": {
   "display_name": "Python 3",
   "language": "python",
   "name": "python3"
  },
  "language_info": {
   "codemirror_mode": {
    "name": "ipython",
    "version": 2
   },
   "file_extension": ".py",
   "mimetype": "text/x-python",
   "name": "python",
   "nbconvert_exporter": "python",
   "pygments_lexer": "ipython2",
   "version": "2.7.6"
  }
 },
 "nbformat": 4,
 "nbformat_minor": 5
}
