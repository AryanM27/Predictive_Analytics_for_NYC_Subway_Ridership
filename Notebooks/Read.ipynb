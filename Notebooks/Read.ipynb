{
 "cells": [
  {
   "cell_type": "code",
   "id": "initial_id",
   "metadata": {
    "collapsed": true,
    "jupyter": {
     "outputs_hidden": true
    },
    "ExecuteTime": {
     "end_time": "2025-04-24T17:25:39.688275Z",
     "start_time": "2025-04-24T17:25:36.153123Z"
    }
   },
   "source": [
    "import numpy as np\n",
    "import pandas as pd\n",
    "import matplotlib as plt\n",
    "import pyspark as sp"
   ],
   "outputs": [],
   "execution_count": 1
  },
  {
   "cell_type": "code",
   "id": "cfee3238739341c0",
   "metadata": {
    "ExecuteTime": {
     "end_time": "2025-04-24T17:25:47.755439Z",
     "start_time": "2025-04-24T17:25:39.717950Z"
    }
   },
   "source": [
    "spark = sp.sql.SparkSession.builder.appName(\"Read Data\").master(\"local[*]\").config(\"spark.driver.memory\", \"8g\").getOrCreate()"
   ],
   "outputs": [],
   "execution_count": 2
  },
  {
   "cell_type": "code",
   "id": "489fe33499532567",
   "metadata": {
    "ExecuteTime": {
     "end_time": "2025-04-24T17:27:30.002452Z",
     "start_time": "2025-04-24T17:25:48.016659Z"
    }
   },
   "source": [
    "df = spark.read.option(\"header\", True).option(\"inferSchema\", True).option(\"multiLine\", False).option(\"escape\", \"\\\"\").option(\"mode\", \"DROPMALFORMED\").csv(\"D:\\MTA_Subway_Hourly_Ridership__2020-2024\\MTA_Subway_Hourly_Ridership__2020-2024.csv\")\n",
    "\n",
    "df = df.repartition(64)"
   ],
   "outputs": [],
   "execution_count": 3
  },
  {
   "cell_type": "code",
   "id": "10f185fce2e3e8d",
   "metadata": {
    "ExecuteTime": {
     "end_time": "2025-04-24T17:27:30.049064Z",
     "start_time": "2025-04-24T17:27:30.041555Z"
    }
   },
   "source": [
    "df.printSchema()"
   ],
   "outputs": [
    {
     "name": "stdout",
     "output_type": "stream",
     "text": [
      "root\n",
      " |-- transit_timestamp: string (nullable = true)\n",
      " |-- transit_mode: string (nullable = true)\n",
      " |-- station_complex_id: string (nullable = true)\n",
      " |-- station_complex: string (nullable = true)\n",
      " |-- borough: string (nullable = true)\n",
      " |-- payment_method: string (nullable = true)\n",
      " |-- fare_class_category: string (nullable = true)\n",
      " |-- ridership: integer (nullable = true)\n",
      " |-- transfers: integer (nullable = true)\n",
      " |-- latitude: double (nullable = true)\n",
      " |-- longitude: double (nullable = true)\n",
      " |-- Georeference: string (nullable = true)\n",
      "\n"
     ]
    }
   ],
   "execution_count": 4
  },
  {
   "metadata": {
    "ExecuteTime": {
     "end_time": "2025-04-24T17:27:30.649569Z",
     "start_time": "2025-04-24T17:27:30.641447Z"
    }
   },
   "cell_type": "code",
   "source": [
    "spark.conf.set(\"spark.hadoop.io.native.lib.available\", \"false\")\n",
    "spark.conf.set(\"spark.hadoop.fs.file.impl.disable.cache\", \"true\")\n",
    "spark.conf.set(\"spark.hadoop.hadoop.native.io\", False)\n"
   ],
   "id": "fb82e06592252036",
   "outputs": [],
   "execution_count": 5
  },
  {
   "cell_type": "code",
   "id": "3e512291d85c0cd6",
   "metadata": {
    "ExecuteTime": {
     "end_time": "2025-04-24T17:32:24.296962Z",
     "start_time": "2025-04-24T17:27:30.713648Z"
    }
   },
   "source": "df.write.mode(\"overwrite\").option(\"compression\", \"snappy\").partitionBy(\"transit_mode\", \"borough\").parquet(\"D:/data/mta_hourly\")",
   "outputs": [],
   "execution_count": 6
  },
  {
   "cell_type": "code",
   "id": "d1679b67ef596699",
   "metadata": {
    "ExecuteTime": {
     "end_time": "2025-04-24T17:32:25.086566Z",
     "start_time": "2025-04-24T17:32:24.360385Z"
    }
   },
   "source": [
    "spark.stop()"
   ],
   "outputs": [],
   "execution_count": 7
  }
 ],
 "metadata": {
  "kernelspec": {
   "display_name": "Python 3 (ipykernel)",
   "language": "python",
   "name": "python3"
  },
  "language_info": {
   "codemirror_mode": {
    "name": "ipython",
    "version": 3
   },
   "file_extension": ".py",
   "mimetype": "text/x-python",
   "name": "python",
   "nbconvert_exporter": "python",
   "pygments_lexer": "ipython3",
   "version": "3.11.3"
  }
 },
 "nbformat": 4,
 "nbformat_minor": 5
}
