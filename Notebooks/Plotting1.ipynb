{
 "cells": [
  {
   "cell_type": "code",
   "execution_count": 1,
   "id": "initial_id",
   "metadata": {
    "ExecuteTime": {
     "end_time": "2025-05-05T00:16:05.046094Z",
     "start_time": "2025-05-05T00:16:02.879450Z"
    },
    "collapsed": true
   },
   "outputs": [],
   "source": [
    "import numpy as np\n",
    "import pandas as pd\n",
    "import matplotlib as plt\n",
    "import pyspark as sp\n",
    "from pyspark.sql.functions import col, year, to_timestamp, sum as _sum, desc, date_format, countDistinct, collect_set, round, first\n",
    "from pyspark.sql import functions as F\n",
    "from pyspark.sql import Row\n",
    "import matplotlib.pyplot as plt\n",
    "import os\n",
    "from calendar import month_name"
   ]
  },
  {
   "cell_type": "code",
   "execution_count": 2,
   "id": "4b367a0e8823c120",
   "metadata": {
    "ExecuteTime": {
     "end_time": "2025-05-05T00:16:11.037353Z",
     "start_time": "2025-05-05T00:16:05.068277Z"
    }
   },
   "outputs": [],
   "source": [
    "spark = sp.sql.SparkSession.builder.appName(\"Merging Weather\").master(\"local[4]\").config(\"spark.driver.memory\", \"6g\").getOrCreate()"
   ]
  },
  {
   "cell_type": "code",
   "execution_count": 3,
   "id": "69ee167127b5d0c6",
   "metadata": {
    "ExecuteTime": {
     "end_time": "2025-05-05T00:16:18.994101Z",
     "start_time": "2025-05-05T00:16:11.307916Z"
    }
   },
   "outputs": [],
   "source": [
    "df = spark.read.parquet(\"D:/data/mta_top20_joined_1\")"
   ]
  },
  {
   "cell_type": "code",
   "execution_count": 4,
   "id": "fecb27c769577311",
   "metadata": {
    "ExecuteTime": {
     "end_time": "2025-05-05T00:16:19.061771Z",
     "start_time": "2025-05-05T00:16:19.051498Z"
    }
   },
   "outputs": [
    {
     "name": "stdout",
     "output_type": "stream",
     "text": [
      "root\n",
      " |-- station_complex: string (nullable = true)\n",
      " |-- transit_timestamp: string (nullable = true)\n",
      " |-- station_complex_id: string (nullable = true)\n",
      " |-- payment_method: string (nullable = true)\n",
      " |-- fare_class_category: string (nullable = true)\n",
      " |-- ridership: integer (nullable = true)\n",
      " |-- transfers: integer (nullable = true)\n",
      " |-- transit_mode: string (nullable = true)\n",
      " |-- borough: string (nullable = true)\n",
      " |-- longitude: double (nullable = true)\n",
      " |-- latitude: double (nullable = true)\n",
      " |-- temperature_C: string (nullable = true)\n",
      " |-- precipitation_mm: string (nullable = true)\n",
      " |-- humidity_%: string (nullable = true)\n",
      "\n"
     ]
    }
   ],
   "source": [
    "df.printSchema()"
   ]
  },
  {
   "cell_type": "code",
   "execution_count": 9,
   "id": "886958fdeeed6333",
   "metadata": {
    "ExecuteTime": {
     "end_time": "2025-05-05T00:17:42.130908Z",
     "start_time": "2025-05-05T00:17:41.717759Z"
    }
   },
   "outputs": [
    {
     "name": "stdout",
     "output_type": "stream",
     "text": [
      "+------------------+\n",
      "|station_complex_id|\n",
      "+------------------+\n",
      "|               451|\n",
      "|                51|\n",
      "|               447|\n",
      "|               434|\n",
      "|               610|\n",
      "|               617|\n",
      "|               120|\n",
      "|               164|\n",
      "|               604|\n",
      "|               345|\n",
      "|               450|\n",
      "|               616|\n",
      "|               366|\n",
      "|               382|\n",
      "|               318|\n",
      "|               371|\n",
      "|               607|\n",
      "|               630|\n",
      "|               278|\n",
      "|               611|\n",
      "+------------------+\n",
      "\n"
     ]
    }
   ],
   "source": [
    "df.select(\"station_complex_id\").distinct().show()"
   ]
  },
  {
   "cell_type": "code",
   "execution_count": 11,
   "id": "8ae67ecaba902dda",
   "metadata": {
    "ExecuteTime": {
     "end_time": "2025-05-05T00:17:55.707460Z",
     "start_time": "2025-05-05T00:17:55.067006Z"
    }
   },
   "outputs": [
    {
     "name": "stdout",
     "output_type": "stream",
     "text": [
      "+--------------------------------------------------+\n",
      "|station_complex                                   |\n",
      "+--------------------------------------------------+\n",
      "|Jamaica Center-Parsons/Archer (E,J,Z)             |\n",
      "|Fordham Rd (4)                                    |\n",
      "|34 St-Penn Station (1,2,3)                        |\n",
      "|Myrtle-Wyckoff Avs (L,M)                          |\n",
      "|Flushing-Main St (7)                              |\n",
      "|Junction Blvd (7)                                 |\n",
      "|161 St-Yankee Stadium (B,D,4)                     |\n",
      "|74-Broadway (7)/Jackson Hts-Roosevelt Av (E,F,M,R)|\n",
      "|Bedford Av (L)                                    |\n",
      "|Times Sq-42 St (N,Q,R,W,S,1,2,3,7)/42 St (A,C,E)  |\n",
      "|Kings Hwy (B,Q)                                   |\n",
      "|3 Av-149 St (2,5)                                 |\n",
      "|34 St-Herald Sq (B,D,F,M,N,Q,R,W)                 |\n",
      "|Grand Central-42 St (S,4,5,6,7)                   |\n",
      "|Hunts Point Av (6)                                |\n",
      "|103 St-Corona Plaza (7)                           |\n",
      "|34 St-Penn Station (A,C,E)                        |\n",
      "|Parkchester (6)                                   |\n",
      "|Atlantic Av-Barclays Ctr (B,D,N,Q,R,2,3,4,5)      |\n",
      "|Crown Hts-Utica Av (3,4)                          |\n",
      "+--------------------------------------------------+\n",
      "\n"
     ]
    }
   ],
   "source": [
    "df.select(\"station_complex\").distinct().show(truncate = False)"
   ]
  },
  {
   "cell_type": "code",
   "execution_count": 8,
   "id": "ad43b6547a53ba9e",
   "metadata": {
    "ExecuteTime": {
     "end_time": "2025-05-05T00:17:26.101230Z",
     "start_time": "2025-05-05T00:17:25.810244Z"
    }
   },
   "outputs": [
    {
     "name": "stdout",
     "output_type": "stream",
     "text": [
      "+--------------+\n",
      "|payment_method|\n",
      "+--------------+\n",
      "|     metrocard|\n",
      "|          omny|\n",
      "+--------------+\n",
      "\n"
     ]
    }
   ],
   "source": [
    "df.select(\"payment_method\").distinct().show()"
   ]
  },
  {
   "cell_type": "code",
   "execution_count": 6,
   "id": "1e56b2a96164c88b",
   "metadata": {
    "ExecuteTime": {
     "end_time": "2025-05-05T00:17:12.341059Z",
     "start_time": "2025-05-05T00:17:11.996299Z"
    }
   },
   "outputs": [
    {
     "name": "stdout",
     "output_type": "stream",
     "text": [
      "+--------------------+\n",
      "| fare_class_category|\n",
      "+--------------------+\n",
      "|Metrocard - Fair ...|\n",
      "|    OMNY - Fair Fare|\n",
      "|OMNY - Seniors & ...|\n",
      "|    OMNY - Full Fare|\n",
      "|Metrocard - Unlim...|\n",
      "|Metrocard - Unlim...|\n",
      "|Metrocard - Full ...|\n",
      "|   Metrocard - Other|\n",
      "|Metrocard - Senio...|\n",
      "|Metrocard - Students|\n",
      "|        OMNY - Other|\n",
      "|     OMNY - Students|\n",
      "+--------------------+\n",
      "\n"
     ]
    }
   ],
   "source": [
    "df.select(\"fare_class_category\").distinct().show()"
   ]
  },
  {
   "cell_type": "code",
   "execution_count": 7,
   "id": "55cc2c8a3d2eae78",
   "metadata": {
    "ExecuteTime": {
     "end_time": "2025-05-05T00:17:12.491441Z",
     "start_time": "2025-05-05T00:17:12.484448Z"
    }
   },
   "outputs": [],
   "source": [
    "import logging\n",
    "logging.basicConfig(level=logging.INFO)\n",
    "logger = logging.getLogger(__name__)"
   ]
  },
  {
   "cell_type": "code",
   "execution_count": 12,
   "id": "49aa0e59bf93fc94",
   "metadata": {
    "ExecuteTime": {
     "end_time": "2025-05-05T00:23:28.925215Z",
     "start_time": "2025-05-05T00:23:28.900139Z"
    }
   },
   "outputs": [],
   "source": [
    "def plot_station_ridership(df, fare_category, payment_method, year, month=None, station_identifier=None, output_dir=\"station_charts\", max_rows_per_station=10000):\n",
    "    \"\"\"\n",
    "    Generate bar charts for ridership at a specific station complex (or all stations if not specified)\n",
    "    for a specific fare category, payment method, year, and optional month. Each chart will have a custom y-axis scale.\n",
    "\n",
    "    Parameters:\n",
    "    - df: PySpark DataFrame with the specified schema\n",
    "    - fare_category: String, e.g., 'OMNY - Full Fare'\n",
    "    - payment_method: String, e.g., 'OMNY'\n",
    "    - year: Integer, e.g., 2023\n",
    "    - month: Integer, 1-12 to filter a specific month (optional, defaults to None for all months)\n",
    "    - station_identifier: String, either station_complex or station_complex_id to filter a specific station (optional)\n",
    "    - output_dir: Directory to save the charts\n",
    "    - max_rows_per_station: Maximum rows to process per station to prevent memory issues (default: 10000).\n",
    "      Limits the number of data points collected for plotting to avoid excessive memory usage.\n",
    "    \"\"\"\n",
    "    # Create output directory if it doesn't exist\n",
    "    if not os.path.exists(output_dir):\n",
    "        os.makedirs(output_dir)\n",
    "\n",
    "    # Debug: Inspect unique values in relevant columns\n",
    "    logger.info(\"Inspecting unique values in the dataset...\")\n",
    "    fare_categories = df.select(\"fare_class_category\").distinct().collect()\n",
    "    payment_methods = df.select(\"payment_method\").distinct().collect()\n",
    "    station_complexes = df.select(\"station_complex\").distinct().collect()\n",
    "    station_ids = df.select(\"station_complex_id\").distinct().collect()\n",
    "\n",
    "    logger.info(f\"Available fare_class_category values: {[row['fare_class_category'] for row in fare_categories]}\")\n",
    "    logger.info(f\"Available payment_method values: {[row['payment_method'] for row in payment_methods]}\")\n",
    "    logger.info(f\"Available station_complex values: {[row['station_complex'] for row in station_complexes]}\")\n",
    "    logger.info(f\"Available station_complex_id values: {[row['station_complex_id'] for row in station_ids]}\")\n",
    "\n",
    "    # Debug: Inspect transit_timestamp values\n",
    "    logger.info(\"Inspecting transit_timestamp values...\")\n",
    "    sample_timestamps = df.select(\"transit_timestamp\").limit(5).collect()\n",
    "    logger.info(f\"Sample transit_timestamp values: {[row['transit_timestamp'] for row in sample_timestamps]}\")\n",
    "\n",
    "    # Check for null timestamps\n",
    "    null_timestamp_count = df.filter(df.transit_timestamp.isNull()).count()\n",
    "    total_count = df.count()\n",
    "    logger.info(f\"Null transit_timestamp count: {null_timestamp_count} out of {total_count} records\")\n",
    "\n",
    "    # Parse transit_timestamp with the correct format\n",
    "    df_with_timestamp = df.withColumn(\"parsed_timestamp\", F.to_timestamp(\"transit_timestamp\", \"MM/dd/yyyy hh:mm:ss a\"))\n",
    "\n",
    "    # Debug: Verify parsing\n",
    "    sample_parsed = df_with_timestamp.select(\"transit_timestamp\", \"parsed_timestamp\").limit(5).collect()\n",
    "    logger.info(\"Sample parsed timestamps:\")\n",
    "    for row in sample_parsed:\n",
    "        logger.info(f\"Raw: {row['transit_timestamp']}, Parsed: {row['parsed_timestamp']}\")\n",
    "\n",
    "    # Extract years\n",
    "    years = df_with_timestamp.select(F.year(\"parsed_timestamp\").alias(\"year\")).distinct().collect()\n",
    "    valid_years = [row[\"year\"] for row in years if row[\"year\"] is not None]\n",
    "    logger.info(f\"Available years after parsing: {valid_years}\")\n",
    "\n",
    "    if not valid_years:\n",
    "        logger.error(\"No valid years found. Please verify the transit_timestamp format matches 'MM/dd/yyyy hh:mm:ss a'.\")\n",
    "        return\n",
    "\n",
    "    # Filter by year, fare category, and payment method\n",
    "    filtered_df = df_with_timestamp.filter(\n",
    "        (F.year(\"parsed_timestamp\") == year) &\n",
    "        (df.fare_class_category == fare_category) &\n",
    "        (df.payment_method == payment_method)\n",
    "    )\n",
    "\n",
    "    # Apply month filter if specified\n",
    "    if month is not None:\n",
    "        if not 1 <= month <= 12:\n",
    "            logger.error(\"Month must be between 1 and 12. Exiting.\")\n",
    "            return\n",
    "        filtered_df = filtered_df.filter(F.month(\"parsed_timestamp\") == month)\n",
    "        logger.info(f\"Filtering for month: {month_name[month]}\")\n",
    "\n",
    "    # Cache and repartition filtered DataFrame to optimize memory usage\n",
    "    filtered_df = filtered_df.repartition(10).cache()\n",
    "\n",
    "    # Check the number of records\n",
    "    record_count = filtered_df.count()\n",
    "    logger.info(f\"Filtered dataset contains {record_count} records\")\n",
    "    if record_count == 0:\n",
    "        logger.warning(\"No data available after filtering. Exiting. Please check the filter parameters against available values logged above.\")\n",
    "        filtered_df.unpersist()\n",
    "        return\n",
    "\n",
    "    # Group by station_complex, date, and month (if applicable), summing ridership\n",
    "    agg_df = filtered_df.groupBy(\n",
    "        \"station_complex\",\n",
    "        F.date_format(\"parsed_timestamp\", \"yyyy-MM-dd\").alias(\"date\")\n",
    "    ).agg(\n",
    "        F.sum(\"ridership\").alias(\"total_ridership\")\n",
    "    ).orderBy(\"station_complex\", \"date\")\n",
    "\n",
    "    # Check PySpark version\n",
    "    spark_version = sp.__version__\n",
    "    logger.info(f\"Using PySpark version: {spark_version}\")\n",
    "\n",
    "    # Determine the stations to process\n",
    "    if station_identifier:\n",
    "        # Check if station_identifier matches station_complex or station_complex_id\n",
    "        stations = [row[\"station_complex\"] for row in filtered_df.filter(\n",
    "            (filtered_df.station_complex == station_identifier) |\n",
    "            (filtered_df.station_complex_id == station_identifier)\n",
    "        ).select(\"station_complex\").distinct().collect()]\n",
    "        if not stations:\n",
    "            logger.error(f\"No station found matching identifier: {station_identifier}. Exiting.\")\n",
    "            filtered_df.unpersist()\n",
    "            return\n",
    "        logger.info(f\"Processing single station: {stations[0]} (identifier: {station_identifier})\")\n",
    "    else:\n",
    "        # Process all stations if no identifier is provided\n",
    "        stations = [row[\"station_complex\"] for row in agg_df.select(\"station_complex\").distinct().collect()]\n",
    "        logger.info(f\"Processing all stations. Found {len(stations)} unique stations.\")\n",
    "\n",
    "    # Generate a bar chart for the specified station(s)\n",
    "    for station in stations:\n",
    "        logger.info(f\"Generating chart for station: {station}\")\n",
    "\n",
    "        # Filter data for the current station\n",
    "        station_df = agg_df.filter(agg_df.station_complex == station)\n",
    "\n",
    "        try:\n",
    "            # Collect data as a list of rows, limiting to max_rows_per_station\n",
    "            station_rows = station_df.limit(max_rows_per_station).collect()\n",
    "\n",
    "            # Convert to Pandas DataFrame manually\n",
    "            pandas_df = pd.DataFrame(\n",
    "                [(row[\"date\"], row[\"total_ridership\"]) for row in station_rows],\n",
    "                columns=[\"date\", \"total_ridership\"]\n",
    "            )\n",
    "\n",
    "            # Skip if no data\n",
    "            if pandas_df.empty:\n",
    "                logger.warning(f\"No data for station: {station}\")\n",
    "                continue\n",
    "\n",
    "            plt.figure(figsize=(12, 6))\n",
    "            plt.bar(pandas_df[\"date\"], pandas_df[\"total_ridership\"], color='blue', label=\"Ridership\")\n",
    "\n",
    "            # Set title and labels with proper encoding, including the month if specified\n",
    "            title_month = f\"{month_name[month]} \" if month else \"\"\n",
    "            plt.title(f\"Daily Ridership at {station}\\n{fare_category}, {payment_method}, {title_month}{year}\")\n",
    "            plt.xlabel(\"Date\")\n",
    "            plt.ylabel(\"Total Ridership\")\n",
    "\n",
    "            # Add grid for better readability\n",
    "            plt.grid(True, axis='y', linestyle='--', alpha=0.7)\n",
    "\n",
    "            # Adjust x-axis ticks based on the number of days\n",
    "            num_days = len(pandas_df)\n",
    "            if num_days > 0:\n",
    "                step = max(1, num_days // 5)  # Show roughly 5 ticks\n",
    "                plt.xticks(pandas_df[\"date\"][::step], rotation=45, ha='right')\n",
    "\n",
    "            # Custom y-axis scale based on the max ridership for this station\n",
    "            max_ridership = pandas_df[\"total_ridership\"].max()\n",
    "            if max_ridership <= 0:\n",
    "                logger.warning(f\"Max ridership for {station} is {max_ridership}. Skipping y-axis scaling.\")\n",
    "                step_size = 1000\n",
    "            else:\n",
    "                # Calculate a step size as roughly 1/5 of the max value, rounded to a clean number\n",
    "                step_size = max(1000, round(max_ridership / 5, -3))  # Round to nearest 1000\n",
    "            y_ticks = np.arange(0, max_ridership + step_size, step_size)\n",
    "            plt.yticks(y_ticks)\n",
    "\n",
    "            # Simplify legend\n",
    "            plt.legend()\n",
    "\n",
    "            # Adjust layout to prevent label cutoff\n",
    "            plt.tight_layout()\n",
    "\n",
    "            # Save the chart with month in the filename if specified\n",
    "            safe_station_name = station.replace(\"/\", \"_\").replace(\" \", \"_\")\n",
    "            filename_month = f\"_{month_name[month].lower()}\" if month else \"\"\n",
    "            output_path = os.path.join(output_dir, f\"{safe_station_name}_{year}{filename_month}_barchart.png\")\n",
    "            plt.savefig(output_path, dpi=300)  # Increase DPI for better quality\n",
    "            plt.close()\n",
    "\n",
    "            logger.info(f\"Saved bar chart for {station} at {output_path}\")\n",
    "\n",
    "        except Exception as e:\n",
    "            logger.error(f\"Failed to process station {station}: {str(e)}\")\n",
    "            continue\n",
    "\n",
    "    # Clean up\n",
    "    filtered_df.unpersist()"
   ]
  },
  {
   "cell_type": "code",
   "execution_count": 14,
   "id": "66987b49c3d16528",
   "metadata": {
    "ExecuteTime": {
     "end_time": "2025-05-05T00:24:01.272518Z",
     "start_time": "2025-05-05T00:23:55.838163Z"
    }
   },
   "outputs": [
    {
     "name": "stderr",
     "output_type": "stream",
     "text": [
      "INFO:__main__:Inspecting unique values in the dataset...\n",
      "INFO:__main__:Available fare_class_category values: ['Metrocard - Fair Fare', 'OMNY - Fair Fare', 'OMNY - Seniors & Disability', 'OMNY - Full Fare', 'Metrocard - Unlimited 7-Day', 'Metrocard - Unlimited 30-Day', 'Metrocard - Full Fare', 'Metrocard - Other', 'Metrocard - Seniors & Disability', 'Metrocard - Students', 'OMNY - Other', 'OMNY - Students']\n",
      "INFO:__main__:Available payment_method values: ['metrocard', 'omny']\n",
      "INFO:__main__:Available station_complex values: ['Jamaica Center-Parsons/Archer (E,J,Z)', 'Fordham Rd (4)', '34 St-Penn Station (1,2,3)', 'Myrtle-Wyckoff Avs (L,M)', 'Flushing-Main St (7)', 'Junction Blvd (7)', '161 St-Yankee Stadium (B,D,4)', '74-Broadway (7)/Jackson Hts-Roosevelt Av (E,F,M,R)', 'Bedford Av (L)', 'Times Sq-42 St (N,Q,R,W,S,1,2,3,7)/42 St (A,C,E)', 'Kings Hwy (B,Q)', '3 Av-149 St (2,5)', '34 St-Herald Sq (B,D,F,M,N,Q,R,W)', 'Grand Central-42 St (S,4,5,6,7)', 'Hunts Point Av (6)', '103 St-Corona Plaza (7)', '34 St-Penn Station (A,C,E)', 'Parkchester (6)', 'Atlantic Av-Barclays Ctr (B,D,N,Q,R,2,3,4,5)', 'Crown Hts-Utica Av (3,4)']\n",
      "INFO:__main__:Available station_complex_id values: ['451', '51', '447', '434', '610', '617', '120', '164', '604', '345', '450', '616', '366', '382', '318', '371', '607', '630', '278', '611']\n",
      "INFO:__main__:Inspecting transit_timestamp values...\n",
      "INFO:__main__:Sample transit_timestamp values: ['01/01/2023 03:00:00 AM', '01/01/2023 03:00:00 AM', '01/01/2023 03:00:00 AM', '01/01/2023 03:00:00 AM', '01/01/2023 03:00:00 AM']\n",
      "INFO:__main__:Null transit_timestamp count: 0 out of 1411668 records\n",
      "INFO:__main__:Sample parsed timestamps:\n",
      "INFO:__main__:Raw: 01/01/2023 03:00:00 AM, Parsed: 2023-01-01 03:00:00\n",
      "INFO:__main__:Raw: 01/01/2023 03:00:00 AM, Parsed: 2023-01-01 03:00:00\n",
      "INFO:__main__:Raw: 01/01/2023 03:00:00 AM, Parsed: 2023-01-01 03:00:00\n",
      "INFO:__main__:Raw: 01/01/2023 03:00:00 AM, Parsed: 2023-01-01 03:00:00\n",
      "INFO:__main__:Raw: 01/01/2023 03:00:00 AM, Parsed: 2023-01-01 03:00:00\n",
      "INFO:__main__:Available years after parsing: [2023, 2024]\n",
      "INFO:__main__:Filtering for month: January\n",
      "INFO:__main__:Filtered dataset contains 7383 records\n",
      "INFO:__main__:Using PySpark version: 3.5.5\n",
      "INFO:__main__:Processing single station: Hunts Point Av (6) (identifier: 371)\n",
      "INFO:__main__:Generating chart for station: Hunts Point Av (6)\n",
      "INFO:matplotlib.category:Using categorical units to plot a list of strings that are all parsable as floats or dates. If these strings should be plotted as numbers, cast to the appropriate data type before plotting.\n",
      "INFO:matplotlib.category:Using categorical units to plot a list of strings that are all parsable as floats or dates. If these strings should be plotted as numbers, cast to the appropriate data type before plotting.\n",
      "INFO:matplotlib.category:Using categorical units to plot a list of strings that are all parsable as floats or dates. If these strings should be plotted as numbers, cast to the appropriate data type before plotting.\n",
      "ERROR:__main__:Failed to process station Hunts Point Av (6): [NOT_COLUMN_OR_STR] Argument `col` should be a Column or str, got float64.\n"
     ]
    },
    {
     "data": {
      "image/png": "[encoded data removed]",
      "text/plain": [
       "<Figure size 1200x600 with 1 Axes>"
      ]
     },
     "metadata": {},
     "output_type": "display_data"
    }
   ],
   "source": [
    "plot_station_ridership(df, 'OMNY - Full Fare', \"omny\", 2023, month = 1, station_identifier=\"371\")"
   ]
  },
  {
   "cell_type": "code",
   "execution_count": 15,
   "id": "f1f85964f1c046e6",
   "metadata": {
    "ExecuteTime": {
     "end_time": "2025-05-05T00:27:24.471963Z",
     "start_time": "2025-05-05T00:27:23.881594Z"
    }
   },
   "outputs": [],
   "source": [
    "spark.stop()"
   ]
  },
  {
   "cell_type": "code",
   "execution_count": null,
   "id": "e3d31de3fd567fcf",
   "metadata": {},
   "outputs": [],
   "source": []
  }
 ],
 "metadata": {
  "kernelspec": {
   "display_name": "Python 3",
   "language": "python",
   "name": "python3"
  },
  "language_info": {
   "codemirror_mode": {
    "name": "ipython",
    "version": 2
   },
   "file_extension": ".py",
   "mimetype": "text/x-python",
   "name": "python",
   "nbconvert_exporter": "python",
   "pygments_lexer": "ipython2",
   "version": "2.7.6"
  }
 },
 "nbformat": 4,
 "nbformat_minor": 5
}
